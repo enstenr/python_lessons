{
 "cells": [
  {
   "cell_type": "markdown",
   "metadata": {},
   "source": [
    "# Numpy\n",
    "we have list in python which is slow . so numpy was built which has various inbuilt functions mathematically for datascience\n"
   ]
  },
  {
   "cell_type": "code",
   "execution_count": 5,
   "metadata": {},
   "outputs": [
    {
     "name": "stdout",
     "output_type": "stream",
     "text": [
      "[1 5 3 4 2]\n",
      "<class 'numpy.ndarray'>\n",
      "1.18.5\n",
      "[1 5]\n"
     ]
    }
   ],
   "source": [
    "# importing numpy and giving it a short alias to access \n",
    "import numpy as np \n",
    "# the array type is called ndarray \n",
    "arr=np.array([1,5,3,4,2])\n",
    "\n",
    "print(arr)\n",
    "print(type(arr))\n",
    "#printing the numpy version\n",
    "print(np.__version__)\n",
    "\n",
    "b = arr[:2]\n",
    "print(b)"
   ]
  },
  {
   "cell_type": "code",
   "execution_count": 6,
   "metadata": {},
   "outputs": [
    {
     "name": "stdout",
     "output_type": "stream",
     "text": [
      "[4 2 3]\n"
     ]
    }
   ],
   "source": [
    "# creating ndarray from list\n",
    "list=[4,2,3]\n",
    "np_array = np.array(list)\n",
    "print(np_array)"
   ]
  },
  {
   "cell_type": "code",
   "execution_count": 13,
   "metadata": {},
   "outputs": [
    {
     "name": "stdout",
     "output_type": "stream",
     "text": [
      "0\n",
      "1\n",
      "2\n",
      "3\n"
     ]
    }
   ],
   "source": [
    "# 0 dimension array\n",
    "arr=np.array(90)\n",
    "print(arr.ndim)\n",
    "\n",
    "arr1=np.array([4,3,2,1])\n",
    "print(arr1.ndim)\n",
    "\n",
    "# 2 dimension array . an array containing 1d arary as element\n",
    "arr2=np.array([[2,3,5],[4,5,6]])\n",
    "print(arr2.ndim)\n",
    "\n",
    "#3d array contains 2d array as its elements\n",
    "arr3 = np.array([arr2])\n",
    "print(arr3.ndim)"
   ]
  },
  {
   "cell_type": "code",
   "execution_count": 16,
   "metadata": {},
   "outputs": [
    {
     "name": "stdout",
     "output_type": "stream",
     "text": [
      "5\n",
      "[[[[[1 2 3 4]]]]]\n"
     ]
    }
   ],
   "source": [
    "# create an array of higher dimention \n",
    "arr=np.array([1,2,3,4],ndmin=5)\n",
    "print(arr.ndim)\n",
    "print(arr)"
   ]
  }
 ],
 "metadata": {
  "kernelspec": {
   "display_name": "Python 3",
   "language": "python",
   "name": "python3"
  },
  "language_info": {
   "codemirror_mode": {
    "name": "ipython",
    "version": 3
   },
   "file_extension": ".py",
   "mimetype": "text/x-python",
   "name": "python",
   "nbconvert_exporter": "python",
   "pygments_lexer": "ipython3",
   "version": "3.8.3"
  }
 },
 "nbformat": 4,
 "nbformat_minor": 4
}
