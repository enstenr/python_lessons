{
 "cells": [
  {
   "cell_type": "markdown",
   "metadata": {
    "colab_type": "text",
    "id": "byHPhyCdwZGE"
   },
   "source": [
    "# Session 3 Exercises Notebook\n",
    "\n",
    "Each time you are given a programming exercise in session 3, you should complete it in this notebook. The sections are numbered and the instructions are given here in the notebook."
   ]
  },
  {
   "cell_type": "markdown",
   "metadata": {
    "colab_type": "text",
    "id": "OGF2yQZswZGG"
   },
   "source": [
    "## 3.3 Lists\n"
   ]
  },
  {
   "cell_type": "markdown",
   "metadata": {
    "colab_type": "text",
    "id": "uXJJ5VaOwZGI"
   },
   "source": [
    "## Creating a list\n",
    "In the box below, write the Python code to create a list containing 10 types of animals. We will use this list for manipulation in the rest of this exercise."
   ]
  },
  {
   "cell_type": "code",
   "execution_count": 106,
   "metadata": {},
   "outputs": [],
   "source": [
    "from pprint import pprint"
   ]
  },
  {
   "cell_type": "code",
   "execution_count": 107,
   "metadata": {
    "colab": {},
    "colab_type": "code",
    "id": "2XbfNW0xwZGJ"
   },
   "outputs": [
    {
     "name": "stdout",
     "output_type": "stream",
     "text": [
      "['Tiger',\n",
      " 'Elephant',\n",
      " 'Cat',\n",
      " 'Dog',\n",
      " 'Cheetah',\n",
      " 'Donkey',\n",
      " 'Leopard',\n",
      " 'Cow',\n",
      " 'Bear',\n",
      " 'Panther']\n"
     ]
    }
   ],
   "source": [
    "# creating a list of animals \n",
    "animals_list = ['Tiger','Elephant','Cat','Dog','Cheetah','Donkey','Leopard','Cow','Bear','Panther']\n",
    "pprint(animals_list)"
   ]
  },
  {
   "cell_type": "markdown",
   "metadata": {
    "colab_type": "text",
    "id": "tK2_kqtJwZGR"
   },
   "source": [
    "###Indexing - In this section, you will access data in your list via indexing in a number of ways."
   ]
  },
  {
   "cell_type": "markdown",
   "metadata": {
    "colab_type": "text",
    "id": "lrt1cRVN1jo-"
   },
   "source": [
    "Try printing the second item in the list of animals. Check to make sure the output is what you expected."
   ]
  },
  {
   "cell_type": "code",
   "execution_count": 2,
   "metadata": {
    "colab": {},
    "colab_type": "code",
    "id": "N9qRLJjs1pW3"
   },
   "outputs": [
    {
     "name": "stdout",
     "output_type": "stream",
     "text": [
      "Elephant\n"
     ]
    }
   ],
   "source": [
    "# index starts from 0 , so to print 2nd item, the index is 2-1 = 1 \n",
    "print(animals_list[1])"
   ]
  },
  {
   "cell_type": "markdown",
   "metadata": {
    "colab_type": "text",
    "id": "sRhPqn7u1oIP"
   },
   "source": [
    "Print the entire list, except the first and last elements."
   ]
  },
  {
   "cell_type": "code",
   "execution_count": 16,
   "metadata": {
    "colab": {},
    "colab_type": "code",
    "id": "9rt1uzrL1oan"
   },
   "outputs": [
    {
     "name": "stdout",
     "output_type": "stream",
     "text": [
      "['Elephant', 'Cat', 'lion', 'Cheetah', 'Donkey', 'Leopard', 'Cow', 'Bear']\n",
      "['Elephant', 'Cat', 'lion', 'Cheetah', 'Donkey', 'Leopard', 'Cow', 'Bear', 'Panther']\n"
     ]
    }
   ],
   "source": [
    "# to print the entire list except first and last element \n",
    "# we can use the range operator \n",
    "print(animals_list[1:len(animals_list)-1])\n",
    "\n",
    "\n",
    "\n",
    "# to print entire list except first and last element, we can use range to print  from 1 till length \n",
    "# if we do not give a end value then all elements from starting till end will be printed\n",
    "print(animals_list[1:])"
   ]
  },
  {
   "cell_type": "code",
   "execution_count": 8,
   "metadata": {},
   "outputs": [
    {
     "name": "stdout",
     "output_type": "stream",
     "text": [
      "['Elephant', 'Cat', 'Dog', 'Cheetah', 'Donkey', 'Leopard', 'Cow', 'Bear', 'Panther']\n",
      "10\n"
     ]
    }
   ],
   "source": [
    "# we can also print from 1st till end using another way. instead of leaving the end range as blank, we can use \n",
    "# the len() function to get the length of the list\n",
    "print(animals_list[1:len(animals_list)])\n",
    "print(len(animals_list))\n",
    "# the reason len( ) does not give error is that the last index is ignored \n",
    "# so animals_list[len(animals_list)] does give error but using it in range will not give error \n"
   ]
  },
  {
   "cell_type": "markdown",
   "metadata": {
    "colab_type": "text",
    "id": "2LAhj1ny10B0"
   },
   "source": [
    "Choose one of the animal names on your list and programmatically find and print its index."
   ]
  },
  {
   "cell_type": "code",
   "execution_count": 23,
   "metadata": {
    "colab": {},
    "colab_type": "code",
    "id": "hjUmytFH1sQx"
   },
   "outputs": [
    {
     "name": "stdout",
     "output_type": "stream",
     "text": [
      "7\n"
     ]
    }
   ],
   "source": [
    "# i want to find Dog \n",
    "if 'Dog' in animals_list:\n",
    "    print(animals_list.index('Dog'))\n",
    "    \n",
    "    \n",
    "print(animals_list.index('Donkey'))"
   ]
  },
  {
   "cell_type": "markdown",
   "metadata": {
    "colab_type": "text",
    "id": "egFmyX99442_"
   },
   "source": [
    "Change the animal found at index 3 to \"lion\" and print the list to see if it worked."
   ]
  },
  {
   "cell_type": "code",
   "execution_count": 13,
   "metadata": {
    "colab": {},
    "colab_type": "code",
    "id": "W-Fb6lc64_i5"
   },
   "outputs": [
    {
     "name": "stdout",
     "output_type": "stream",
     "text": [
      "['Tiger', 'Elephant', 'Cat', 'lion', 'Cheetah', 'Donkey', 'Leopard', 'Cow', 'Bear', 'Panther']\n"
     ]
    }
   ],
   "source": [
    "# update the index element to lion \n",
    "animals_list[3]='lion'\n",
    "print(animals_list)"
   ]
  },
  {
   "cell_type": "markdown",
   "metadata": {
    "colab_type": "text",
    "id": "4ACX9b586Kpc"
   },
   "source": [
    "Print animals at indexes 0,2,4,6,8 in the list - this might seem a little trickier, but remember that you can index in steps!"
   ]
  },
  {
   "cell_type": "code",
   "execution_count": 14,
   "metadata": {
    "colab": {},
    "colab_type": "code",
    "id": "CU2ipiJTQ55k"
   },
   "outputs": [
    {
     "name": "stdout",
     "output_type": "stream",
     "text": [
      "Tiger\n",
      "Cat\n",
      "Cheetah\n",
      "Leopard\n",
      "Bear\n"
     ]
    }
   ],
   "source": [
    "for i in range(0,10,2):\n",
    "    print(animals_list[i])"
   ]
  },
  {
   "cell_type": "markdown",
   "metadata": {
    "colab_type": "text",
    "id": "4hGkllrB40Gj"
   },
   "source": [
    "## Adding and Removing items from your list"
   ]
  },
  {
   "cell_type": "markdown",
   "metadata": {
    "colab_type": "text",
    "id": "0bbpu4U52lZ9"
   },
   "source": [
    "Add another animal to the end of your list."
   ]
  },
  {
   "cell_type": "code",
   "execution_count": 18,
   "metadata": {
    "colab": {},
    "colab_type": "code",
    "id": "r1koQOGb2vzI"
   },
   "outputs": [
    {
     "name": "stdout",
     "output_type": "stream",
     "text": [
      "['Tiger', 'Elephant', 'Cat', 'lion', 'Cheetah', 'Donkey', 'Leopard', 'Cow', 'Bear', 'Panther', 'Crow']\n"
     ]
    }
   ],
   "source": [
    "animals_list.append('Crow')\n",
    "print(animals_list)"
   ]
  },
  {
   "cell_type": "markdown",
   "metadata": {
    "colab_type": "text",
    "id": "zaCUHio12xFh"
   },
   "source": [
    "Add another animal to your list, but this time, add it at the second index."
   ]
  },
  {
   "cell_type": "code",
   "execution_count": 20,
   "metadata": {
    "colab": {},
    "colab_type": "code",
    "id": "7GQrAcYp268V"
   },
   "outputs": [
    {
     "name": "stdout",
     "output_type": "stream",
     "text": [
      "['Tiger', 'Elephant', 'Monkey', 'Monkey', 'Cat', 'lion', 'Cheetah', 'Donkey', 'Leopard', 'Cow', 'Bear', 'Panther', 'Crow']\n"
     ]
    }
   ],
   "source": [
    "animals_list.insert(2,'Monkey')\n",
    "print(animals_list)"
   ]
  },
  {
   "cell_type": "markdown",
   "metadata": {
    "colab_type": "text",
    "id": "DjxXtcDH27Eo"
   },
   "source": [
    "Create a new list containing 3 new animals and add it to the end of your original list."
   ]
  },
  {
   "cell_type": "code",
   "execution_count": 25,
   "metadata": {
    "colab": {},
    "colab_type": "code",
    "id": "DTtmPCjL3CXJ"
   },
   "outputs": [],
   "source": [
    "new_animals_list = ['Crow','Swan','Peacock']\n",
    "updated_list = (animals_list + new_animals_list)\n"
   ]
  },
  {
   "cell_type": "markdown",
   "metadata": {
    "colab_type": "text",
    "id": "2buw9h2F3A0P"
   },
   "source": [
    "Remove one of the animals by index, and remove another by value."
   ]
  },
  {
   "cell_type": "code",
   "execution_count": 29,
   "metadata": {
    "colab": {},
    "colab_type": "code",
    "id": "cmKCWk3N3bfZ"
   },
   "outputs": [
    {
     "data": {
      "text/plain": [
       "'Monkey'"
      ]
     },
     "execution_count": 29,
     "metadata": {},
     "output_type": "execute_result"
    }
   ],
   "source": [
    "updated_list.remove('Swan')\n",
    "updated_list.pop(2)"
   ]
  },
  {
   "cell_type": "markdown",
   "metadata": {
    "colab_type": "text",
    "id": "5El52i-53aCA"
   },
   "source": [
    "Remove the first two animals using a slice."
   ]
  },
  {
   "cell_type": "code",
   "execution_count": 32,
   "metadata": {
    "colab": {},
    "colab_type": "code",
    "id": "RBeueZTM3aUw"
   },
   "outputs": [],
   "source": [
    "del updated_list[0:2]"
   ]
  },
  {
   "cell_type": "code",
   "execution_count": 33,
   "metadata": {},
   "outputs": [
    {
     "name": "stdout",
     "output_type": "stream",
     "text": [
      "['lion', 'Cheetah', 'Donkey', 'Leopard', 'Cow', 'Bear', 'Panther', 'Crow', 'Crow', 'Peacock']\n"
     ]
    }
   ],
   "source": [
    "print(updated_list)"
   ]
  },
  {
   "cell_type": "markdown",
   "metadata": {
    "colab_type": "text",
    "id": "JGB3pZ6bnGMe"
   },
   "source": [
    "## 3.4 Tuples"
   ]
  },
  {
   "cell_type": "markdown",
   "metadata": {
    "colab_type": "text",
    "id": "6LcB5yobpnn5"
   },
   "source": [
    "\n",
    "Create a tuple and a list containing `1,2,3,4`\n",
    "See what happens if you add an element with the value `2` to each of them. As you won't be able to update the tuple, you will need to create a new one with `(1,2,2,3,4)`.\n"
   ]
  },
  {
   "cell_type": "code",
   "execution_count": 42,
   "metadata": {
    "colab": {},
    "colab_type": "code",
    "id": "Yq38IsvqnUOX"
   },
   "outputs": [
    {
     "name": "stdout",
     "output_type": "stream",
     "text": [
      "(1, 2, 3, 4, 2)\n",
      "[1, 2, 3, 4, 2]\n"
     ]
    }
   ],
   "source": [
    "t = ( 1,2,3,4)\n",
    "lst = [1,2,3,4]\n",
    "print( t+ (2,))\n",
    "print(lst+[2])"
   ]
  },
  {
   "cell_type": "markdown",
   "metadata": {
    "colab_type": "text",
    "id": "K1WdHC1Iq66x"
   },
   "source": [
    "Create a new tuple called tuple_a containing 5,2,3,7 and another tuple caled tuple_b containing 6,21,2. Create a new variable that contains the sum of the first value in tuple_a, and the last value of tuple_b."
   ]
  },
  {
   "cell_type": "code",
   "execution_count": 44,
   "metadata": {
    "colab": {},
    "colab_type": "code",
    "id": "zqBN8ng7pFKb"
   },
   "outputs": [
    {
     "name": "stdout",
     "output_type": "stream",
     "text": [
      "7\n"
     ]
    }
   ],
   "source": [
    "tuple_a = (5,2,3,7)\n",
    "tuple_b = ( 6,21,2) \n",
    "new_var = tuple_a[0] + tuple_b[-1]\n",
    "print(new_var)"
   ]
  },
  {
   "cell_type": "markdown",
   "metadata": {
    "colab_type": "text",
    "id": "ofk-grOxsNaK"
   },
   "source": [
    "Data structures in python can be 'nested'. This means that each item in a tuple can be another tuple. Try making a new tuple called tuple_c that contains tuple_a and tuple_b as its elements."
   ]
  },
  {
   "cell_type": "code",
   "execution_count": 47,
   "metadata": {
    "colab": {},
    "colab_type": "code",
    "id": "Q5LiGw6osN3w"
   },
   "outputs": [
    {
     "name": "stdout",
     "output_type": "stream",
     "text": [
      "((5, 2, 3, 7), (6, 21, 2))\n"
     ]
    }
   ],
   "source": [
    "tuple_c = tuple(( tuple_a ,tuple_b))\n",
    "print(tuple_c)"
   ]
  },
  {
   "cell_type": "markdown",
   "metadata": {
    "colab_type": "text",
    "id": "X4uKdp5Qs5Ne"
   },
   "source": [
    "Using referencing, access \"dog\" in the following nested tuple"
   ]
  },
  {
   "cell_type": "code",
   "execution_count": 50,
   "metadata": {
    "colab": {},
    "colab_type": "code",
    "id": "DZmeSye9uE8n"
   },
   "outputs": [],
   "source": [
    "pets = ((\"cat\",\"dog\",\"rabbit\"),(200,500,35))"
   ]
  },
  {
   "cell_type": "code",
   "execution_count": 53,
   "metadata": {
    "colab": {},
    "colab_type": "code",
    "id": "2tNzKNmcuW1x"
   },
   "outputs": [
    {
     "name": "stdout",
     "output_type": "stream",
     "text": [
      "dog\n"
     ]
    }
   ],
   "source": [
    "print(pets[0][1])"
   ]
  },
  {
   "cell_type": "markdown",
   "metadata": {
    "colab_type": "text",
    "id": "--X4oWNwuiCD"
   },
   "source": [
    "Create a new *list* containing 3 *tuples*. Each tuple should represent a record of book - each record should consist of a title, author, and publisher."
   ]
  },
  {
   "cell_type": "code",
   "execution_count": 55,
   "metadata": {
    "colab": {},
    "colab_type": "code",
    "id": "GSnDakKRszNq"
   },
   "outputs": [],
   "source": [
    "book_1 = ('Title a','Autho a', 'publisher a ')\n",
    "book_2 = ('Title b','Autho b', 'publisher b ')\n",
    "book_3 = ('Title c','Autho c', 'publisher c ')\n",
    "list_tuple = [book_1,book_2,book_3]"
   ]
  },
  {
   "cell_type": "markdown",
   "metadata": {
    "colab_type": "text",
    "id": "Y4FNwbANwUEy"
   },
   "source": [
    "Now, try removing the second book, and a new one. Did it work? Why?"
   ]
  },
  {
   "cell_type": "code",
   "execution_count": 57,
   "metadata": {
    "colab": {},
    "colab_type": "code",
    "id": "vQq5FpB_wZAw"
   },
   "outputs": [
    {
     "name": "stdout",
     "output_type": "stream",
     "text": [
      "[('Title a', 'Autho a', 'publisher a '), ('Title b', 'Autho b', 'publisher b '), ('Title c', 'Autho c', 'publisher c ')]\n"
     ]
    }
   ],
   "source": [
    "print(list_tuple)\n",
    "del list_tuple[1]\n"
   ]
  },
  {
   "cell_type": "code",
   "execution_count": 58,
   "metadata": {},
   "outputs": [
    {
     "name": "stdout",
     "output_type": "stream",
     "text": [
      "[('Title a', 'Autho a', 'publisher a '), ('Title c', 'Autho c', 'publisher c ')]\n"
     ]
    }
   ],
   "source": [
    "print(list_tuple)"
   ]
  },
  {
   "cell_type": "markdown",
   "metadata": {
    "colab_type": "text",
    "id": "l_ajPakhwZQM"
   },
   "source": [
    " Given that the entries are a tuples, you can't alter the title of the last book. Instead, you will have to replace it with a new one. Try this below.\n"
   ]
  },
  {
   "cell_type": "code",
   "execution_count": 60,
   "metadata": {
    "colab": {},
    "colab_type": "code",
    "id": "AUxQBwQnwF82"
   },
   "outputs": [
    {
     "name": "stdout",
     "output_type": "stream",
     "text": [
      "[('Title a', 'Autho a', 'publisher a '), ('Title d', 'Author d', ' publisher d ')]\n"
     ]
    }
   ],
   "source": [
    "list_tuple[1]= tuple(('Title d','Author d', ' publisher d '))\n",
    "print(list_tuple)"
   ]
  },
  {
   "cell_type": "markdown",
   "metadata": {
    "colab_type": "text",
    "id": "cJdv9kU4xati"
   },
   "source": [
    "## 3.5 Sets"
   ]
  },
  {
   "cell_type": "markdown",
   "metadata": {
    "colab_type": "text",
    "id": "T7IMYLwVyBPU"
   },
   "source": [
    "Define two sets. The first should contain the values 'Cat', 'Dog', 'Pig', 'Cow' and the second should contain the values 'Cat', 'Cow', 'Rat', 'Fish'.\n",
    "\n"
   ]
  },
  {
   "cell_type": "code",
   "execution_count": 68,
   "metadata": {
    "colab": {},
    "colab_type": "code",
    "id": "P6l9XnITxcsp"
   },
   "outputs": [],
   "source": [
    "st1 = { 'Cat', 'Dog', 'Pig', 'Cow'}\n",
    "st2 = { 'Cat', 'Cow', 'Rat', 'Fish'}"
   ]
  },
  {
   "cell_type": "markdown",
   "metadata": {
    "colab_type": "text",
    "id": "M4TWWvt6zSTo"
   },
   "source": [
    "Combine these two sets into one set, so that it only contains unique values."
   ]
  },
  {
   "cell_type": "code",
   "execution_count": 62,
   "metadata": {
    "colab": {},
    "colab_type": "code",
    "id": "bqFp2nrGzQiB"
   },
   "outputs": [
    {
     "name": "stdout",
     "output_type": "stream",
     "text": [
      "{'Dog', 'Cow', 'Pig', 'Fish', 'Cat', 'Rat'}\n"
     ]
    }
   ],
   "source": [
    "unique_set = st1.union(st2)\n",
    "print(unique_set)"
   ]
  },
  {
   "cell_type": "markdown",
   "metadata": {
    "colab_type": "text",
    "id": "YNm7yHQBy6Ye"
   },
   "source": [
    "Now create another set that contains only the values that exist in both sets."
   ]
  },
  {
   "cell_type": "code",
   "execution_count": 63,
   "metadata": {
    "colab": {},
    "colab_type": "code",
    "id": "zUoSl92py8I_"
   },
   "outputs": [
    {
     "name": "stdout",
     "output_type": "stream",
     "text": [
      "{'Cat', 'Cow'}\n"
     ]
    }
   ],
   "source": [
    "print(st1.intersection(st2))"
   ]
  },
  {
   "cell_type": "markdown",
   "metadata": {
    "colab_type": "text",
    "id": "A_Yjy-cJy8V7"
   },
   "source": [
    "\n",
    "Remove 'Cat' from the first set and then add 'Goat'."
   ]
  },
  {
   "cell_type": "code",
   "execution_count": 71,
   "metadata": {
    "colab": {},
    "colab_type": "code",
    "id": "jtiqM5ivy-ro"
   },
   "outputs": [
    {
     "ename": "KeyError",
     "evalue": "'Cat'",
     "output_type": "error",
     "traceback": [
      "\u001b[1;31m---------------------------------------------------------------------------\u001b[0m",
      "\u001b[1;31mKeyError\u001b[0m                                  Traceback (most recent call last)",
      "\u001b[1;32m<ipython-input-71-8e8bd4cf0c81>\u001b[0m in \u001b[0;36m<module>\u001b[1;34m\u001b[0m\n\u001b[1;32m----> 1\u001b[1;33m \u001b[0mst1\u001b[0m\u001b[1;33m.\u001b[0m\u001b[0mremove\u001b[0m\u001b[1;33m(\u001b[0m\u001b[1;34m'Cat'\u001b[0m\u001b[1;33m)\u001b[0m\u001b[1;33m\u001b[0m\u001b[1;33m\u001b[0m\u001b[0m\n\u001b[0m\u001b[0;32m      2\u001b[0m \u001b[0mprint\u001b[0m\u001b[1;33m(\u001b[0m\u001b[0mst1\u001b[0m\u001b[1;33m)\u001b[0m\u001b[1;33m\u001b[0m\u001b[1;33m\u001b[0m\u001b[0m\n",
      "\u001b[1;31mKeyError\u001b[0m: 'Cat'"
     ]
    }
   ],
   "source": [
    "st1.remove('Cat')\n",
    "print(st1)\n"
   ]
  },
  {
   "cell_type": "code",
   "execution_count": 74,
   "metadata": {},
   "outputs": [
    {
     "name": "stdout",
     "output_type": "stream",
     "text": [
      "{'Dog', 'Cow', 'Pig', 'Goat'} {'Cat', 'Rat', 'Cow', 'Fish'}\n"
     ]
    }
   ],
   "source": [
    "print(st1,st2)"
   ]
  },
  {
   "cell_type": "code",
   "execution_count": 73,
   "metadata": {},
   "outputs": [],
   "source": [
    "st1.add('Goat')"
   ]
  },
  {
   "cell_type": "markdown",
   "metadata": {
    "colab_type": "text",
    "id": "Sdq6TwWDzjr1"
   },
   "source": [
    "Calculate the new intersection between the updated first set, and the second set. What is the intersection now? Why has it changed?"
   ]
  },
  {
   "cell_type": "code",
   "execution_count": 75,
   "metadata": {
    "colab": {},
    "colab_type": "code",
    "id": "Whjt2mNc0UD-"
   },
   "outputs": [
    {
     "name": "stdout",
     "output_type": "stream",
     "text": [
      "{'Cow'}\n"
     ]
    }
   ],
   "source": [
    "print(st1.intersection(st2))"
   ]
  },
  {
   "cell_type": "markdown",
   "metadata": {
    "colab_type": "text",
    "id": "H8uvdrZc1aqX"
   },
   "source": [
    "# 3.6 Dictionaries"
   ]
  },
  {
   "cell_type": "markdown",
   "metadata": {
    "colab_type": "text",
    "id": "O4RA6HEI1gPN"
   },
   "source": [
    "Create a dictionary object that represents the data that you might record from a single customer making a purchase in a store. This should include their first name, second name, age, and a list of products they have purchased. Each one of these products should be another dictionary containing the name of the product  and price they paid for it. Make up keys and values as you like, and include at least 3 products.\n",
    "\n"
   ]
  },
  {
   "cell_type": "code",
   "execution_count": 110,
   "metadata": {
    "colab": {},
    "colab_type": "code",
    "id": "hf46_hl91fbB"
   },
   "outputs": [
    {
     "name": "stdout",
     "output_type": "stream",
     "text": [
      "{'basic_info': {'age': 40, 'f_name': 'Rajesh', 'l_name': 'Subramanian'},\n",
      " 'products': [{'name': 'Clothes', 'price': 30},\n",
      "              {'name': 'Toiletries', 'price': 50},\n",
      "              {'name': 'Essentials', 'price': 60},\n",
      "              {'name': 'Books', 'price': 90}]}\n"
     ]
    }
   ],
   "source": [
    "cust_dict =  {\n",
    "            'basic_info':{'f_name':'Rajesh','l_name':'Subramanian','age':40,},\n",
    "            'products': [{'name':'Clothes','price':30},{'name':'Toiletries','price':50 }, {'name':'Essentials','price':60},{'name':'Books','price':90}]\n",
    "        }\n",
    "    \n",
    "    \n",
    " \n",
    "    \n",
    "      \n",
    "\n",
    "pprint(cust_dict)"
   ]
  },
  {
   "cell_type": "markdown",
   "metadata": {
    "colab_type": "text",
    "id": "561PzskJ3ZB6"
   },
   "source": [
    "Print all the keys in the customer's record"
   ]
  },
  {
   "cell_type": "code",
   "execution_count": 88,
   "metadata": {
    "colab": {},
    "colab_type": "code",
    "id": "_fRNI2vQ2-57"
   },
   "outputs": [
    {
     "name": "stdout",
     "output_type": "stream",
     "text": [
      "dict_keys(['basic_info', 'products'])\n"
     ]
    }
   ],
   "source": [
    "print(cust_dict.keys())"
   ]
  },
  {
   "cell_type": "markdown",
   "metadata": {
    "colab_type": "text",
    "id": "CqjEScei3k1g"
   },
   "source": [
    "Print all the values in the customer's record"
   ]
  },
  {
   "cell_type": "code",
   "execution_count": 108,
   "metadata": {
    "colab": {},
    "colab_type": "code",
    "id": "T_k6tW4P3iMJ"
   },
   "outputs": [
    {
     "name": "stdout",
     "output_type": "stream",
     "text": [
      "dict_values([{'f_name': 'Rajesh', 'l_name': 'Subramanian', 'phone': 123}, [{'name': 'Clothes', 'price': 30}, {'name': 'Toiletries', 'price': 50}, {'name': 'Essentials', 'price': 60}, {'name': 'Books', 'price': 90}]])\n"
     ]
    }
   ],
   "source": [
    "pprint(cust_dict.values())"
   ]
  },
  {
   "cell_type": "markdown",
   "metadata": {
    "colab_type": "text",
    "id": "cXvrF0T22Lgp"
   },
   "source": [
    "Print the names of each product that they purchased. "
   ]
  },
  {
   "cell_type": "code",
   "execution_count": 90,
   "metadata": {
    "colab": {},
    "colab_type": "code",
    "id": "mmabk2pw170i"
   },
   "outputs": [
    {
     "name": "stdout",
     "output_type": "stream",
     "text": [
      "Clothes\n",
      "Toiletries\n",
      "Essentials\n",
      "Books\n"
     ]
    }
   ],
   "source": [
    "for product in cust_dict['products']:\n",
    "    print(product['name'])"
   ]
  },
  {
   "cell_type": "markdown",
   "metadata": {
    "colab_type": "text",
    "id": "4hPq739r33-e"
   },
   "source": [
    "Create a new variable containing the customer's total bill."
   ]
  },
  {
   "cell_type": "code",
   "execution_count": 92,
   "metadata": {
    "colab": {},
    "colab_type": "code",
    "id": "uimBJUHK4Azu"
   },
   "outputs": [
    {
     "data": {
      "text/plain": [
       "230"
      ]
     },
     "execution_count": 92,
     "metadata": {},
     "output_type": "execute_result"
    }
   ],
   "source": [
    "sum([product['price'] for product in cust_dict['products']])"
   ]
  },
  {
   "cell_type": "markdown",
   "metadata": {
    "colab_type": "text",
    "id": "eLMcKK8B4lQi"
   },
   "source": [
    "\n",
    "Add a new field to contain the customers phone number and remove the entry containing the customers age\n",
    "\n"
   ]
  },
  {
   "cell_type": "code",
   "execution_count": 95,
   "metadata": {
    "colab": {},
    "colab_type": "code",
    "id": "sL5Nev9Q4M-l"
   },
   "outputs": [
    {
     "ename": "KeyError",
     "evalue": "'age'",
     "output_type": "error",
     "traceback": [
      "\u001b[1;31m---------------------------------------------------------------------------\u001b[0m",
      "\u001b[1;31mKeyError\u001b[0m                                  Traceback (most recent call last)",
      "\u001b[1;32m<ipython-input-95-89d1c4137eaf>\u001b[0m in \u001b[0;36m<module>\u001b[1;34m\u001b[0m\n\u001b[1;32m----> 1\u001b[1;33m \u001b[0mcust_dict\u001b[0m\u001b[1;33m[\u001b[0m\u001b[1;34m'basic_info'\u001b[0m\u001b[1;33m]\u001b[0m\u001b[1;33m.\u001b[0m\u001b[0mpop\u001b[0m\u001b[1;33m(\u001b[0m\u001b[1;34m'age'\u001b[0m\u001b[1;33m)\u001b[0m\u001b[1;33m\u001b[0m\u001b[1;33m\u001b[0m\u001b[0m\n\u001b[0m\u001b[0;32m      2\u001b[0m \u001b[1;33m\u001b[0m\u001b[0m\n",
      "\u001b[1;31mKeyError\u001b[0m: 'age'"
     ]
    }
   ],
   "source": [
    "cust_dict['basic_info'].pop('age')\n",
    "\n"
   ]
  },
  {
   "cell_type": "code",
   "execution_count": 96,
   "metadata": {},
   "outputs": [],
   "source": [
    "cust_dict['basic_info'].update({'phone':123})"
   ]
  },
  {
   "cell_type": "code",
   "execution_count": 97,
   "metadata": {},
   "outputs": [
    {
     "name": "stdout",
     "output_type": "stream",
     "text": [
      "{'basic_info': {'f_name': 'Rajesh', 'l_name': 'Subramanian', 'phone': 123}, 'products': [{'name': 'Clothes', 'price': 30}, {'name': 'Toiletries', 'price': 50}, {'name': 'Essentials', 'price': 60}, {'name': 'Books', 'price': 90}]}\n"
     ]
    }
   ],
   "source": [
    "print(cust_dict)"
   ]
  },
  {
   "cell_type": "markdown",
   "metadata": {
    "colab_type": "text",
    "id": "CQqmaW9duFAT"
   },
   "source": [
    "## 3.7 Choosing the right structure"
   ]
  },
  {
   "cell_type": "markdown",
   "metadata": {
    "colab_type": "text",
    "id": "NCqI7TVzuKjp"
   },
   "source": [
    "In the following examples, describe which data structure you would use, and if nesting different types of structures would be more appropriate. Elaborate on your choices."
   ]
  },
  {
   "cell_type": "markdown",
   "metadata": {
    "colab_type": "text",
    "id": "HlhqrVkFuXZo"
   },
   "source": [
    "### 3.7.1 - Grocery Store Inventory\n",
    "You are a small grocery store owner, and you want to record all of your stock. You sell 100 types of products, with names, suppliers, etc. You also need to keep a record of how much you paid for your produce, and how many you have left in stock."
   ]
  },
  {
   "cell_type": "markdown",
   "metadata": {
    "colab_type": "text",
    "id": "VT_biwD1ue4t"
   },
   "source": [
    "---Enter your answer here---"
   ]
  },
  {
   "cell_type": "markdown",
   "metadata": {},
   "source": [
    "i would choose dict of dict. the outer dict will contain product code as key and the value will be another dict containing, name, supplier code, price paid, inv stock count  "
   ]
  },
  {
   "cell_type": "code",
   "execution_count": 105,
   "metadata": {},
   "outputs": [
    {
     "name": "stdout",
     "output_type": "stream",
     "text": [
      "{'prodct_code1': {'inv_stock': 10,\n",
      "                  'name': 'product1',\n",
      "                  'price_paid': 100,\n",
      "                  'supplier_code': 'code1'}}\n"
     ]
    }
   ],
   "source": [
    "\n",
    "store_inv = { 'prodct_code1':{ 'name':'product1','supplier_code':'code1','price_paid':100,'inv_stock':10}}\n",
    "pprint(store_inv)"
   ]
  },
  {
   "cell_type": "markdown",
   "metadata": {
    "colab_type": "text",
    "id": "1swj-4aKufHE"
   },
   "source": [
    "### 3.7.2 - Digital Encyclopedia\n",
    " You have been asked to make an encyclopedia where customers can look up a key word and find the encylopedia entry that describes it."
   ]
  },
  {
   "cell_type": "markdown",
   "metadata": {
    "colab_type": "text",
    "id": "wXkMzdgFufKA"
   },
   "source": [
    "---Enter your answer here---"
   ]
  },
  {
   "cell_type": "markdown",
   "metadata": {},
   "source": [
    "dict will be perfect candidate for encyclopedia  with key as a word and value as the description "
   ]
  },
  {
   "cell_type": "code",
   "execution_count": 111,
   "metadata": {},
   "outputs": [
    {
     "name": "stdout",
     "output_type": "stream",
     "text": [
      "{'word': 'meaning', 'word2': 'meaning2'}\n"
     ]
    }
   ],
   "source": [
    "ency = {'word':'meaning','word2':'meaning2'}\n",
    "pprint(ency)"
   ]
  },
  {
   "cell_type": "markdown",
   "metadata": {
    "colab_type": "text",
    "id": "hGVX0IPoufMr"
   },
   "source": [
    "### 3.7.3 - Bird Watching Diary\n",
    "You are a very keen bird watcher and want to keep a record of which birds you have seen. You want to keep a record of each species, and each unique location you have seen it."
   ]
  },
  {
   "cell_type": "markdown",
   "metadata": {
    "colab_type": "text",
    "id": "j_bg-z2ExFFc"
   },
   "source": [
    "---Enter your answer here---"
   ]
  },
  {
   "cell_type": "code",
   "execution_count": null,
   "metadata": {},
   "outputs": [],
   "source": [
    "we can choose dict with bird species name and key and a set a value .\n",
    "the set will contain unique location where it was seen "
   ]
  },
  {
   "cell_type": "code",
   "execution_count": 112,
   "metadata": {},
   "outputs": [
    {
     "name": "stdout",
     "output_type": "stream",
     "text": [
      "{'Mangoose': {'location': {'India', 'NY'}}}\n"
     ]
    }
   ],
   "source": [
    "bird_diary = {'Mangoose':{'location':{'NY','India'}}}\n",
    "pprint(bird_diary)"
   ]
  },
  {
   "cell_type": "markdown",
   "metadata": {
    "colab_type": "text",
    "id": "tRaHi9GLvQDo"
   },
   "source": [
    "### 3.7.4 - Family Tree\n",
    "\n",
    "  You have been tasked with creating a data structure that contains a customer's family tree. Each record should contain a person's name, date of birth, and the person's parents, siblings, and children.\n"
   ]
  },
  {
   "cell_type": "markdown",
   "metadata": {
    "colab_type": "text",
    "id": "NO8rLVVKvQWH"
   },
   "source": [
    "---Enter your answer here---"
   ]
  },
  {
   "cell_type": "code",
   "execution_count": null,
   "metadata": {},
   "outputs": [],
   "source": [
    "the data structure can be a list with dict as inner structure\n",
    "dict will contain \n",
    "name\n",
    "dob\n",
    "parents - this will be list \n",
    "siblings - this will be list\n",
    "children - this will be list \n"
   ]
  },
  {
   "cell_type": "code",
   "execution_count": 120,
   "metadata": {},
   "outputs": [
    {
     "name": "stdout",
     "output_type": "stream",
     "text": [
      "{'children': ['Nishesha', 'Vishwesh'],\n",
      " 'dob': 'Dec 27',\n",
      " 'name': 'Rajesh',\n",
      " 'parents': [{'dob': 'Apr 21', 'name': 'Subramanian'},\n",
      "             {'dob': 'Mar 20', 'name': 'Gangalakshmi'}],\n",
      " 'siblings': ['Geetha'],\n",
      " 'spouse': {'dob': 'Mar 22', 'name': 'Iswarya'}}\n"
     ]
    }
   ],
   "source": [
    "family_tree = { 'name':'Rajesh','dob':'Dec 27', 'parents':[{'name':'Subramanian','dob':'Apr 21'},{'name':'Gangalakshmi','dob':'Mar 20'}],\n",
    "              'siblings':['Geetha'],\n",
    "              'children':['Nishesha','Vishwesh'],\n",
    "              'spouse':{'name':'Iswarya','dob':'Mar 22'}\n",
    "              }\n",
    "\n",
    "pprint(family_tree)"
   ]
  }
 ],
 "metadata": {
  "colab": {
   "collapsed_sections": [],
   "name": "Session3_Exercises_no_answers.ipynb",
   "provenance": []
  },
  "kernelspec": {
   "display_name": "Python 3",
   "language": "python",
   "name": "python3"
  },
  "language_info": {
   "codemirror_mode": {
    "name": "ipython",
    "version": 3
   },
   "file_extension": ".py",
   "mimetype": "text/x-python",
   "name": "python",
   "nbconvert_exporter": "python",
   "pygments_lexer": "ipython3",
   "version": "3.8.3"
  }
 },
 "nbformat": 4,
 "nbformat_minor": 1
}
