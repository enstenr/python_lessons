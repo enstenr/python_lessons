{
 "cells": [
  {
   "cell_type": "markdown",
   "metadata": {},
   "source": [
    "# ITNPBD2 Practical exercises. Session 4 Loops, Conditionals and Comprehension\n",
    "\n",
    "By the end of this session, you will be able to:\n",
    "- Write code to execute looping in Python\n",
    "- Use conditional statements to control program flow\n",
    "- Iterate over iterable structures to process their contents one at a time\n",
    "- Use list and set comprehension to process whole data structures"
   ]
  },
  {
   "cell_type": "markdown",
   "metadata": {},
   "source": [
    "# 4.3 Conditionals"
   ]
  },
  {
   "cell_type": "markdown",
   "metadata": {},
   "source": [
    "### Simple conditions\n",
    "Experiment with the 8 comparison operators \"<, <=, ==, >=, >, !=, is, and is not\"\n",
    "\n",
    "Print out the outcome of each of the operators for __a op b__\n",
    "\n",
    "where a = 10 and b = 9\n",
    "\n",
    "Then mix it up and experiement __at will__ by flipping a and be and also creating your own variables"
   ]
  },
  {
   "cell_type": "code",
   "execution_count": 3,
   "metadata": {},
   "outputs": [
    {
     "name": "stdout",
     "output_type": "stream",
     "text": [
      "False\n",
      "True\n",
      "False\n",
      "True\n",
      "True\n",
      "False\n",
      "True\n"
     ]
    }
   ],
   "source": [
    "a = 10\n",
    "b = 9\n",
    "# write your code here\n",
    "# a< b, it should be false \n",
    "print(a<b)\n",
    "# a>b it should be true \n",
    "print(a>b)\n",
    "# a == b it should be ? false \n",
    "print(a==b)\n",
    "#a >=b it will be true \n",
    "print(a>=b)\n",
    "#a> b  it will be true \n",
    "print(a>b)\n",
    "# a is b it will be false \n",
    "print( a is b)\n",
    "# a is not b will return true as a is not equal to b \n",
    "print(a is not b)"
   ]
  },
  {
   "cell_type": "markdown",
   "metadata": {},
   "source": [
    "### and/or conditions\n",
    "\n",
    "Write these three sentences as programmatical conditions  \n",
    "Start by defining a, b, and c as you like.  \n",
    "write each conditional in a single print statement, so it prints either True or False\n",
    "\n",
    "1. a is both greater than b and at least greate than c but it can also be equal to c\n",
    "2. c is at least equal to a-b, otherwise it should be less than b\n",
    "3. b is equal to how much greater c is or both c is equal to a plus b while b is not greater than a\n",
    "\n",
    "** bonus, can you find a, b, and c such that all three conditions are true?"
   ]
  },
  {
   "cell_type": "code",
   "execution_count": 10,
   "metadata": {},
   "outputs": [
    {
     "name": "stdout",
     "output_type": "stream",
     "text": [
      "True\n",
      "True\n",
      "True\n"
     ]
    }
   ],
   "source": [
    "# write your code here\n",
    "a = 600\n",
    "b = 200 \n",
    "c = 400 \n",
    "\n",
    "print( a> b and a>=c )\n",
    "\n",
    "print( (c==(a-b)) or (c<b) )\n",
    "\n",
    "print( (b ==c-b) or (c==(a+b) and b <a))"
   ]
  },
  {
   "cell_type": "markdown",
   "metadata": {},
   "source": [
    "# if statements\n",
    "Imagine that you have a list of people's names along with their start date and end date of a particular course. Each person is represented as a dictionary, like this:\n",
    "<code>{'name':'Saemi','start':12345,'end':12456}</code>  \n",
    "where the start and end dates are represented as the integer value of a date (*this is actually how most software deals with dates and time, i.e. as integers*)\n",
    "\n",
    "Your task is to implement an if statement that sorts people into 4 possible bins:\n",
    "- __Bin 1__: People that started before date/time 12345 and ended before 12456\n",
    "- __Bin 2__: People that started before date/time 12345 and ended before 12456 with names that begin with 'S'\n",
    "- __Bin 3__: People that started between date/time 12345 and 12456 (not inclusive) with names that begin with a letter before 'F' in the alpahbet.\n",
    "- __Bin 4__: And everyone else\n",
    "\n",
    "You are only supposed to implement the if statement as if it where only evaluating the conditions on a single person at a time. No loops involed nor actual lists at this time.\n",
    "\n",
    "Couple of assumptions:<br>\n",
    "Assume names are always capitalised and that dates are always represented as integers as in: (2nd January 2020) == (1st January 2020 + 1)\n",
    "\n",
    "**hint: there's no 1 correct solution and depending on your conditions, their order might matter  \n",
    "**hint 2: determine the boundary values and test your implementation for each. Just change the values and rerun the cell"
   ]
  },
  {
   "cell_type": "code",
   "execution_count": 56,
   "metadata": {},
   "outputs": [
    {
     "name": "stdout",
     "output_type": "stream",
     "text": [
      "AEMI\n",
      "{'Bin 1': [], 'Bin 2': [], 'Bin 3': [{'name': 'Aemi', 'start': 12344, 'end': 12455}], 'Bin 4': []}\n"
     ]
    }
   ],
   "source": [
    "# Assume you are only implementing a functionality that can determine what bin this person belongs to\n",
    "# and change the values (not the keys) to test different cases\n",
    "person = {'name':'Aemi','start':12344,'end':12455}\n",
    "bins = {'Bin 1':[], 'Bin 2':[], 'Bin 3':[], 'Bin 4':[]}\n",
    "\n",
    "# Implement your if statement so that it determins the value of a variable called what_bin\n",
    "# Put your code here\n",
    "# what_bin = 'Bin ?'\n",
    "start = (person.get('start'))\n",
    "end = (person.get('end'))\n",
    "name = ( person.get('name'))\n",
    "check = tuple('ABCDE')\n",
    "print(name.upper())\n",
    "if start > 12343 and end < 123456 and name.upper().startswith(check):\n",
    "    bins.get('Bin 3').append(person)\n",
    "elif start < 12345 and end < 123456 and name.startswith('S'):\n",
    "    bins.get('Bin 2').append(person)\n",
    "elif start < 12345 and end < 123456:\n",
    "    bins.get('Bin 1').append(person)\n",
    "else :\n",
    "    bins.get('Bin 4').append(person)\n",
    "\n",
    "\n",
    "# Uncomment the following line to see if the person went into the correct bin\n",
    "#bins[what_bin].append(person)\n",
    "print(bins)"
   ]
  },
  {
   "cell_type": "markdown",
   "metadata": {},
   "source": [
    "Finish the code in the next cell to implement naive __halfing machine__  \n",
    "it should check if the value of the user's input is an even number and assign the variable *half* with either the half of the value or the string \"It was not an even number\"\n",
    "\n",
    "*hint: The modulo operator (%) returns 1 or 0, for example 4%2=0 and 7%2=1\n",
    "\n",
    "*In this exercise we are using the __input__ statement to get user's input  \n",
    "If you are unaware of the input statement, have a look at its description here: https://www.w3schools.com/python/python_user_input.asp*"
   ]
  },
  {
   "cell_type": "code",
   "execution_count": 30,
   "metadata": {},
   "outputs": [
    {
     "name": "stdout",
     "output_type": "stream",
     "text": [
      "What number? 3\n",
      "It was not an even number\n"
     ]
    }
   ],
   "source": [
    "val = input('What number? ')\n",
    "val = int(val)\n",
    "\n",
    "# write your code here\n",
    "if val%2 ==0:\n",
    "    half =int( val / 2) \n",
    "else:\n",
    "    half = 'It was not an even number'\n",
    "print(half)"
   ]
  },
  {
   "cell_type": "markdown",
   "metadata": {},
   "source": [
    "### Can you condense the cell above into 2 lines?\n",
    "use the shorthand if/else"
   ]
  },
  {
   "cell_type": "code",
   "execution_count": 34,
   "metadata": {},
   "outputs": [
    {
     "name": "stdout",
     "output_type": "stream",
     "text": [
      "What number? 7\n",
      "It was not an even number\n"
     ]
    }
   ],
   "source": [
    "# write your code here\n",
    "val = input('What number? ')\n",
    "val = int(val)\n",
    "\n",
    "# write your code here\n",
    "half = int( val / 2) if ( val%2 ==0) else 'It was not an even number'\n",
    "    \n",
    "print(half)"
   ]
  },
  {
   "cell_type": "markdown",
   "metadata": {},
   "source": [
    "### Now make sure that the input is actually numbers and take appropriate action if not\n",
    "You don't need to continue with the shorthand form\n",
    "\n",
    "*hint: String variables implement the _.isdigit()_ function"
   ]
  },
  {
   "cell_type": "code",
   "execution_count": 62,
   "metadata": {},
   "outputs": [
    {
     "name": "stdout",
     "output_type": "stream",
     "text": [
      "What number? 12\n",
      "6\n"
     ]
    }
   ],
   "source": [
    "# write your code here\n",
    "# write your code here\n",
    "val = input('What number? ')\n",
    "if(not val.isdigit()):\n",
    "    print(' Entered text is not a digit. please enter a digit to continue. ')\n",
    "else:\n",
    "    val = int(val)\n",
    "    # write your code here\n",
    "    half = int( val / 2) if ( val%2 ==0) else 'It was not an even number'\n",
    "    print(half)"
   ]
  },
  {
   "cell_type": "markdown",
   "metadata": {},
   "source": [
    "## Create a lookup script for people and their phone number\n",
    "This is a list of random people and their internal phone numbers:\n",
    "- Randy: 1234\n",
    "- Eve: 4321\n",
    "- Oscar: 9876\n",
    "- Jane: 4567\n",
    "\n",
    "The script asks for a name and it should print the name and the correct phone number\n",
    "\n",
    "### First implement it by only using only if, elif, and else"
   ]
  },
  {
   "cell_type": "code",
   "execution_count": 75,
   "metadata": {},
   "outputs": [
    {
     "name": "stdout",
     "output_type": "stream",
     "text": [
      "What name are you looking for? test\n",
      " given person is not found in teh phone book \n"
     ]
    }
   ],
   "source": [
    "search = input('What name are you looking for? ').upper()\n",
    "# write your code here\n",
    "phone= {\n",
    "    'Randy': 1234,\n",
    "    'Eve': 4321,\n",
    "    'Oscar': 9876,\n",
    "    'Jane': 4567\n",
    "}\n",
    "# for each key and value in the dict, convert the key to upper and reform new dict \n",
    "phone_upper = { key.upper():value for  key,value in phone.items()}\n",
    "if phone_upper.get(search) is None:\n",
    "    print(' given person is not found in teh phone book ')\n",
    "else:\n",
    "    print(phone_upper.get(search))"
   ]
  },
  {
   "cell_type": "markdown",
   "metadata": {},
   "source": [
    "### Now account for names that are not on the list"
   ]
  },
  {
   "cell_type": "code",
   "execution_count": null,
   "metadata": {},
   "outputs": [],
   "source": [
    "search = input('What name are you looking for? ')\n",
    "# write your code here"
   ]
  },
  {
   "cell_type": "markdown",
   "metadata": {},
   "source": [
    "### Making it maintainable\n",
    "Now you have a longer list of names in a dictionary, use that to make your code more concise.\\\n",
    "Make sure that there are no errors if the search term is not found.\n",
    "\n",
    "*Use if/else and remember the \"__in__\" operator for sequences like lists and dictionaries"
   ]
  },
  {
   "cell_type": "code",
   "execution_count": 73,
   "metadata": {},
   "outputs": [
    {
     "name": "stdout",
     "output_type": "stream",
     "text": [
      "What name are you looking for? t\n",
      "not found \n"
     ]
    }
   ],
   "source": [
    "phonebook = {'Randy': 1234,'Eve': 4321,'Oscar': 9876,'Jane': 4567,'Greta': 3827,'Harry': 6754}\n",
    "search = input('What name are you looking for? ')\n",
    "# write your code here\n",
    "if search in phonebook:\n",
    "    print(phonebook.get(search))\n",
    "else:\n",
    "    print('not found ')"
   ]
  },
  {
   "cell_type": "markdown",
   "metadata": {},
   "source": [
    "### Can you make it  a one-liner?\n",
    "Can you convert your solution above into a one-liner, excluding the *input* statement?"
   ]
  },
  {
   "cell_type": "code",
   "execution_count": 78,
   "metadata": {},
   "outputs": [
    {
     "name": "stdout",
     "output_type": "stream",
     "text": [
      "What name are you looking for? test\n",
      "not found \n"
     ]
    }
   ],
   "source": [
    "# write your code here\n",
    "phonebook = {'Randy': 1234,'Eve': 4321,'Oscar': 9876,'Jane': 4567,'Greta': 3827,'Harry': 6754}\n",
    "search = input('What name are you looking for? ')\n",
    "# write your code here\n",
    "phonebook.get(search) if search in phonebook else print('not found ')"
   ]
  },
  {
   "cell_type": "markdown",
   "metadata": {},
   "source": [
    "# 4.4 For loops"
   ]
  },
  {
   "cell_type": "markdown",
   "metadata": {},
   "source": [
    "Write a loop that iterates through the following list of names and prints them along with their length\n",
    "\n",
    "the_names = ['Randy','Eve','Oscar','Jane','Greta','Harry','Saemundur','Kevin','Alexander','Jason','Joe','Sue']\n",
    "\n",
    "The first line printed out should be:\\\n",
    "*Randy has 5 characters*"
   ]
  },
  {
   "cell_type": "code",
   "execution_count": 84,
   "metadata": {},
   "outputs": [
    {
     "name": "stdout",
     "output_type": "stream",
     "text": [
      "Randy 5\n",
      "Eve 3\n",
      "Oscar 5\n",
      "Jane 4\n",
      "Greta 5\n",
      "Harry 5\n",
      "Saemundur 9\n",
      "Kevin 5\n",
      "Alexander 9\n",
      "Jason 5\n",
      "Joe 3\n",
      "Sue 3\n"
     ]
    }
   ],
   "source": [
    "# write your code here\n",
    "the_names = ['Randy','Eve','Oscar','Jane','Greta','Harry','Saemundur','Kevin','Alexander','Jason','Joe','Sue']\n",
    "for name in the_names:\n",
    "    print(name,len(name))"
   ]
  },
  {
   "cell_type": "markdown",
   "metadata": {},
   "source": [
    "#### With the same list, only print out the names that are _longer than 4 characters_"
   ]
  },
  {
   "cell_type": "code",
   "execution_count": 88,
   "metadata": {},
   "outputs": [
    {
     "data": {
      "text/plain": [
       "['Randy',\n",
       " 'Oscar',\n",
       " 'Greta',\n",
       " 'Harry',\n",
       " 'Saemundur',\n",
       " 'Kevin',\n",
       " 'Alexander',\n",
       " 'Jason']"
      ]
     },
     "execution_count": 88,
     "metadata": {},
     "output_type": "execute_result"
    }
   ],
   "source": [
    "# write your code here\n",
    "[name for name in the_names if len(name)>4]"
   ]
  },
  {
   "cell_type": "markdown",
   "metadata": {},
   "source": [
    "#### Now, again with the same list of names, for every name that is shorter than 5 charachters print each character on separate lines\n",
    "\n",
    "The first name should be printed like this:\\\n",
    "R\\\n",
    "a\\\n",
    "n\\\n",
    "d\\\n",
    "y"
   ]
  },
  {
   "cell_type": "code",
   "execution_count": 96,
   "metadata": {},
   "outputs": [
    {
     "name": "stdout",
     "output_type": "stream",
     "text": [
      "\n",
      "R\n",
      "a\n",
      "n\n",
      "d\n",
      "y\n",
      "\n",
      "E\n",
      "v\n",
      "e\n",
      "\n",
      "O\n",
      "s\n",
      "c\n",
      "a\n",
      "r\n",
      "\n",
      "J\n",
      "a\n",
      "n\n",
      "e\n",
      "\n",
      "G\n",
      "r\n",
      "e\n",
      "t\n",
      "a\n",
      "\n",
      "H\n",
      "a\n",
      "r\n",
      "r\n",
      "y\n",
      "\n",
      "K\n",
      "e\n",
      "v\n",
      "i\n",
      "n\n",
      "\n",
      "J\n",
      "a\n",
      "s\n",
      "o\n",
      "n\n",
      "\n",
      "J\n",
      "o\n",
      "e\n",
      "\n",
      "S\n",
      "u\n",
      "e\n"
     ]
    }
   ],
   "source": [
    "# write your code here\n",
    "filtered_name = [name for name in the_names if len(name)<=5]\n",
    "for name in filtered_name:\n",
    "    print()\n",
    "    for char in list(name): \n",
    "        print(char)"
   ]
  },
  {
   "cell_type": "markdown",
   "metadata": {},
   "source": [
    "#### Once again, you have the list of names and now also a corresponding list of their associated department abbreviation\n",
    "\n",
    "the_names = ['Randy','Eve','Oscar','Jane','Greta','Harry','Saemundur','Kevin','Alexander','Jason','Joe','Sue']\n",
    "the_dep = ['CSM','PSY','BES','AQU','BES','PSY','CSM','CSM','AQU','CSM','PSY','AQU']\n",
    "\n",
    "For example, according to this, Randy is in CSM and Eve is in PSY.\n",
    "\n",
    "Use a for loop and the zip function to print out each name and department\\\n",
    "The first line should be:\\\n",
    "Randy is in CSM"
   ]
  },
  {
   "cell_type": "code",
   "execution_count": 112,
   "metadata": {},
   "outputs": [
    {
     "name": "stdout",
     "output_type": "stream",
     "text": [
      "Randy is in  CSM\n",
      "Eve is in  PSY\n",
      "Oscar is in  BES\n",
      "Jane is in  AQU\n",
      "Greta is in  BES\n",
      "Harry is in  PSY\n",
      "Saemundur is in  CSM\n",
      "Kevin is in  CSM\n",
      "Alexander is in  AQU\n",
      "Jason is in  CSM\n",
      "Joe is in  PSY\n",
      "Sue is in  AQU\n"
     ]
    }
   ],
   "source": [
    "# write your code here\n",
    "the_names = ['Randy','Eve','Oscar','Jane','Greta','Harry','Saemundur','Kevin','Alexander','Jason','Joe','Sue']\n",
    "the_dep = ['CSM','PSY','BES','AQU','BES','PSY','CSM','CSM','AQU','CSM','PSY','AQU']\n",
    "combined_zip = zip(the_names,the_dep)\n",
    "combined_list = list(combined_zip)\n",
    "for names in combined_list:\n",
    "    print(names[0],'is in ',names[1])"
   ]
  },
  {
   "cell_type": "markdown",
   "metadata": {},
   "source": [
    "#### Continuing with the names and departments, _only_ print out those in CSM and PSY"
   ]
  },
  {
   "cell_type": "code",
   "execution_count": 104,
   "metadata": {},
   "outputs": [
    {
     "name": "stdout",
     "output_type": "stream",
     "text": [
      "Randy  is in  CSM\n",
      "Eve  is in  PSY\n",
      "Harry  is in  PSY\n",
      "Saemundur  is in  CSM\n",
      "Kevin  is in  CSM\n",
      "Jason  is in  CSM\n",
      "Joe  is in  PSY\n"
     ]
    }
   ],
   "source": [
    "# write your code here\n",
    "filtered = [ names for names in zip(the_names,the_dep) if names[1] in ['CSM','PSY']]\n",
    "\n",
    "for x in filtered:\n",
    "    print(x[0], ' is in ', x[1])\n",
    "    "
   ]
  },
  {
   "cell_type": "markdown",
   "metadata": {},
   "source": [
    "#### Use _range_ to print out the first name and department and every third name and department after that.\n",
    "So, the first 2 lines printed out should be:\\\n",
    "Randy is in CSM\\\n",
    "Jane is in AQU\n",
    "\n",
    "*hint: if X%3 equals 0 then X can be divided by 3"
   ]
  },
  {
   "cell_type": "code",
   "execution_count": 117,
   "metadata": {},
   "outputs": [
    {
     "name": "stdout",
     "output_type": "stream",
     "text": [
      "Randy is in  CSM\n",
      "Jane is in  AQU\n",
      "Saemundur is in  CSM\n",
      "Jason is in  CSM\n"
     ]
    }
   ],
   "source": [
    "# write your code here\n",
    "for x in range(0,len(the_names),3):\n",
    "    print(combined_list[x][0],'is in ',combined_list[x][1])"
   ]
  },
  {
   "cell_type": "markdown",
   "metadata": {},
   "source": [
    "#### Do the same as above but this time use _enumerate_ and not _range_"
   ]
  },
  {
   "cell_type": "code",
   "execution_count": 123,
   "metadata": {},
   "outputs": [
    {
     "name": "stdout",
     "output_type": "stream",
     "text": [
      "Randy CSM\n",
      "Jane AQU\n",
      "Saemundur CSM\n",
      "Jason CSM\n"
     ]
    }
   ],
   "source": [
    "# write your code here\n",
    "count = 0 \n",
    "for x in combined_list:\n",
    "    if count %3 ==0:\n",
    "        print(x[0],x[1])\n",
    "    count +=1"
   ]
  },
  {
   "cell_type": "markdown",
   "metadata": {},
   "source": [
    "#### Repeat the same as above but this time, stop the iteration when a name starts with the letter S\n",
    "Don't print out the name that starts with _S_\n",
    "\n",
    "*hint: string implements the function __.startswith()__"
   ]
  },
  {
   "cell_type": "code",
   "execution_count": 124,
   "metadata": {},
   "outputs": [
    {
     "name": "stdout",
     "output_type": "stream",
     "text": [
      "Randy CSM\n",
      "Jane AQU\n"
     ]
    }
   ],
   "source": [
    "# write your code here\n",
    "\n",
    "count = 0 \n",
    "for x in combined_list:\n",
    "    if x[0].startswith('S'):\n",
    "        break\n",
    "    if count %3 ==0:\n",
    "        print(x[0],x[1])\n",
    "    count +=1"
   ]
  },
  {
   "cell_type": "markdown",
   "metadata": {},
   "source": [
    "### Infinite series\n",
    "Use a __for__ loop to print out a special infinite series.\n",
    "\n",
    "The series starts with the number 2 and every consecutive number is the previous number multiplied by 2.\n",
    "So the first 7 numbers are:\\\n",
    "2\\\n",
    "4\\\n",
    "8\\\n",
    "16\\\n",
    "32\\\n",
    "64\\\n",
    "128\n",
    "\n",
    "Implement the loop such that you can define a maximum number so that the loop is not infinite and use __break__ to terminate it when the next number in the series exceeds the maximum.\\\n",
    "Start by defining max_num = 200000000\n",
    "\n",
    "__Don't use range__\\\n",
    "*hint: When iterating over a sequence, what should you preferably not do with the sequence inside the loop?"
   ]
  },
  {
   "cell_type": "code",
   "execution_count": 142,
   "metadata": {},
   "outputs": [
    {
     "name": "stdout",
     "output_type": "stream",
     "text": [
      "2\n",
      "4\n",
      "8\n",
      "16\n",
      "32\n",
      "64\n",
      "128\n",
      "256\n",
      "512\n"
     ]
    }
   ],
   "source": [
    "# write your code here\n",
    "lst = list ( range(2,20,2))\n",
    " \n",
    "prev_num=1\n",
    "for x in lst:\n",
    "    val = 2*prev_num\n",
    "    print(val)\n",
    "    prev_num= val"
   ]
  },
  {
   "cell_type": "markdown",
   "metadata": {},
   "source": [
    "#### Change the loop above so that it doesn't print out the numbers that have 6 as the last digit\n",
    "\n",
    "*hint: X%10 returns the last digit of a number"
   ]
  },
  {
   "cell_type": "code",
   "execution_count": 145,
   "metadata": {},
   "outputs": [
    {
     "name": "stdout",
     "output_type": "stream",
     "text": [
      "2\n",
      "4\n",
      "8\n",
      "32\n",
      "64\n",
      "128\n",
      "512\n"
     ]
    }
   ],
   "source": [
    "# write your code here\n",
    "# write your code here\n",
    "lst = list ( range(2,20,2))\n",
    " \n",
    "prev_num=1\n",
    "for x in lst:\n",
    "    val = 2*prev_num\n",
    "    if val %10 != 6 :\n",
    "        print(val)\n",
    "    prev_num= val"
   ]
  },
  {
   "cell_type": "markdown",
   "metadata": {},
   "source": [
    "#### Can you change the loop so it uses range now?"
   ]
  },
  {
   "cell_type": "code",
   "execution_count": null,
   "metadata": {},
   "outputs": [],
   "source": [
    "# write your code here"
   ]
  },
  {
   "cell_type": "markdown",
   "metadata": {},
   "source": [
    "### Prime numbers\n",
    "Write a loop that prints out all the prime numbers between 1 and 100.\n",
    "\n",
    "A prime number is only divisable by itself and 1\\\n",
    "For any given number __n__, if you cannot find a number __x__ in the range(2,n) such that n%x=0 then n is a prime number.\n",
    "\n",
    "*hint: For loops have an __else__ clause for when they're able to finish the sequence"
   ]
  },
  {
   "cell_type": "code",
   "execution_count": 148,
   "metadata": {},
   "outputs": [
    {
     "name": "stdout",
     "output_type": "stream",
     "text": [
      "2\n",
      "3\n",
      "5\n",
      "7\n",
      "11\n",
      "13\n",
      "17\n",
      "19\n",
      "23\n",
      "29\n",
      "31\n",
      "37\n",
      "41\n",
      "43\n",
      "47\n",
      "53\n",
      "59\n",
      "61\n",
      "67\n",
      "71\n",
      "73\n",
      "79\n",
      "83\n",
      "89\n",
      "97\n"
     ]
    }
   ],
   "source": [
    "# write your code here\n",
    "\n",
    "for n in range(2,100):\n",
    "    found = True\n",
    "    for x in range(2,n):\n",
    "        if n%x ==0:\n",
    "            found = False\n",
    "            break\n",
    "    if found:\n",
    "        print(n)\n",
    "        "
   ]
  },
  {
   "cell_type": "markdown",
   "metadata": {},
   "source": [
    "# 4.5 While loops\n"
   ]
  },
  {
   "cell_type": "markdown",
   "metadata": {},
   "source": [
    "### Implement a while loop that reports the temperature drop in a cup of tea\n",
    "\n",
    "The tea temperature should start at 100°C and drops by 1°C every iteration.\\\n",
    "While the temperature is over 84°C it is too hot to drink.\\\n",
    "The loop should just print out the temperature and inform that the tea is too hot until it is not.\n",
    "\n",
    "The first 3 lines printed should be:\\\n",
    "100°C is still too hot\\\n",
    "99°C is still too hot\\\n",
    "98°C is still too hot\n",
    "\n",
    "And the last line should be:\\\n",
    "84°C is cool enough to drink"
   ]
  },
  {
   "cell_type": "code",
   "execution_count": 149,
   "metadata": {},
   "outputs": [
    {
     "name": "stdout",
     "output_type": "stream",
     "text": [
      "100  is still too hot \n",
      "99  is still too hot \n",
      "98  is still too hot \n",
      "97  is still too hot \n",
      "96  is still too hot \n",
      "95  is still too hot \n",
      "94  is still too hot \n",
      "93  is still too hot \n",
      "92  is still too hot \n",
      "91  is still too hot \n",
      "90  is still too hot \n",
      "89  is still too hot \n",
      "88  is still too hot \n",
      "87  is still too hot \n",
      "86  is still too hot \n",
      "85  is still too hot \n"
     ]
    }
   ],
   "source": [
    "# write your code here\n",
    "temp = 100\n",
    "while temp > 84:\n",
    "    print(temp,' is still too hot ')\n",
    "    temp -=1"
   ]
  },
  {
   "cell_type": "markdown",
   "metadata": {},
   "source": [
    "### The inifinte series revisited\n",
    "\n",
    "Use a while loop to implement the inifinite series from the for loop exercise.\\\n",
    "Again exclude the numbers that have 6 as their last digit."
   ]
  },
  {
   "cell_type": "code",
   "execution_count": 151,
   "metadata": {},
   "outputs": [
    {
     "name": "stdout",
     "output_type": "stream",
     "text": [
      "2\n",
      "4\n",
      "8\n",
      "32\n",
      "64\n",
      "128\n",
      "512\n",
      "1024\n",
      "2048\n",
      "8192\n",
      "16384\n",
      "32768\n",
      "131072\n",
      "262144\n"
     ]
    }
   ],
   "source": [
    "# write your code here\n",
    "# write your code here\n",
    "# write your code here\n",
    "\n",
    "prev_num=1\n",
    "num = 2\n",
    "while num<20:\n",
    "    val = 2*prev_num\n",
    "    if val %10 != 6 :\n",
    "        print(val)\n",
    "    prev_num= val\n",
    "    num += 1"
   ]
  },
  {
   "cell_type": "markdown",
   "metadata": {},
   "source": [
    "### What is the answer to Life, the Universe and Everything?\n",
    "Use a while loop to implement a script that asks the user the question in the title.\\\n",
    "It should \n",
    "- keep on asking until it gets the correct answer (42).\n",
    "- inform the user if the answer is incorrect (e.g., print out: \"Nope, that is not it\")\n",
    "- inform the user if the answer is correct (e.g., print out: \"Correct, you're awesome!\""
   ]
  },
  {
   "cell_type": "code",
   "execution_count": 163,
   "metadata": {},
   "outputs": [
    {
     "name": "stdout",
     "output_type": "stream",
     "text": [
      "What is the answer to Life, the Universe and Everything?t\n",
      "Nope, that is not it\n",
      "What is the answer to Life, the Universe and Everything?1\n",
      "Nope, that is not it\n",
      "What is the answer to Life, the Universe and Everything?2\n",
      "Nope, that is not it\n",
      "What is the answer to Life, the Universe and Everything?3\n",
      "Nope, that is not it\n",
      "What is the answer to Life, the Universe and Everything?42\n",
      "Correct, you're awesome!\n"
     ]
    }
   ],
   "source": [
    "# write your code here\n",
    "answer = 0\n",
    "while ( answer !=42):\n",
    "    answer =input( 'What is the answer to Life, the Universe and Everything?')\n",
    "    if not answer.isdigit() or int(answer) != 42:\n",
    "        answer = 0\n",
    "        print('Nope, that is not it')\n",
    "        continue\n",
    "    answer = int(answer)\n",
    "print('Correct, you\\'re awesome!')\n",
    "        \n",
    "    "
   ]
  },
  {
   "cell_type": "markdown",
   "metadata": {},
   "source": [
    "### Add a maximum number of attempts\n",
    "Now change the loop above so that it only gives the user 3 attempts to answer and informs them when they exceeded the attempts.\n",
    "\n",
    "*hint: while loops can have an __else__ clause for when the condition is not true"
   ]
  },
  {
   "cell_type": "code",
   "execution_count": null,
   "metadata": {},
   "outputs": [],
   "source": [
    "#### write your code here\n",
    "answer = 0\n",
    "attempts = 0\n",
    "max_attempts = 3\n",
    "while ( answer !=42) and attempts < max_attempts :\n",
    "    answer =input( 'What is the answer to Life, the Universe and Everything?')\n",
    "    if not answer.isdigit() or int(answer) != 42:\n",
    "        answer = 0\n",
    "        print('Nope, that is not it')\n",
    "        attempts += 1\n",
    "        continue\n",
    "    answer = int(answer)\n",
    "else:\n",
    "    print( attempts )\n",
    "    if answer == 42:\n",
    "        print('Correct, you\\'re awesome!')\n",
    "    else:\n",
    "        print('Sorry, you\\'ve used all your attempts.')"
   ]
  },
  {
   "cell_type": "markdown",
   "metadata": {},
   "source": [
    "# 4.6 Comprehensions"
   ]
  },
  {
   "cell_type": "markdown",
   "metadata": {},
   "source": [
    "### Here is a list of names\n",
    "the_names = ['Randy Quaid','Eve Short','Oscar Wilde','Jane Goodman',\n",
    "             'Greta Sanderson','Harry Stiles','Saemundur Haraldsson',\n",
    "             'Kevin Swingler','Alexander James','Jason Adair','Joe Dirt','Sue Heck']\n",
    "### Use a list comprehension to create a list of only first names\n",
    "\n",
    "*hint: what does .split() without an argument do?"
   ]
  },
  {
   "cell_type": "code",
   "execution_count": 173,
   "metadata": {},
   "outputs": [
    {
     "name": "stdout",
     "output_type": "stream",
     "text": [
      "['Randy', 'Eve', 'Oscar', 'Jane', 'Greta', 'Harry', 'Saemundur', 'Kevin', 'Alexander', 'Jason', 'Joe', 'Sue']\n"
     ]
    }
   ],
   "source": [
    "# write your code here\n",
    "the_names = ['Randy Quaid','Eve Short','Oscar Wilde','Jane Goodman', 'Greta Sanderson','Harry Stiles','Saemundur Haraldsson', 'Kevin Swingler','Alexander James','Jason Adair','Joe Dirt','Sue Heck']\n",
    "\n",
    "first_names = [x.split()[0] for x in the_names ]\n",
    "print(first_names)"
   ]
  },
  {
   "cell_type": "markdown",
   "metadata": {},
   "source": [
    "#### Now use a comprehension to create a dictionary where the last names are the keys and first names are the values\n",
    "\n",
    "*hint: .split() returns a tuple"
   ]
  },
  {
   "cell_type": "code",
   "execution_count": 175,
   "metadata": {},
   "outputs": [
    {
     "name": "stdout",
     "output_type": "stream",
     "text": [
      "{'Randy': 'Quaid', 'Eve': 'Short', 'Oscar': 'Wilde', 'Jane': 'Goodman', 'Greta': 'Sanderson', 'Harry': 'Stiles', 'Saemundur': 'Haraldsson', 'Kevin': 'Swingler', 'Alexander': 'James', 'Jason': 'Adair', 'Joe': 'Dirt', 'Sue': 'Heck'}\n"
     ]
    }
   ],
   "source": [
    "# write your code here\n",
    "\n",
    "dic = {x.split()[0]:x.split()[1] for x in the_names }\n",
    "print(dic)"
   ]
  },
  {
   "cell_type": "markdown",
   "metadata": {},
   "source": [
    "#### Now create a list of first names that begin with __S__ only"
   ]
  },
  {
   "cell_type": "code",
   "execution_count": 176,
   "metadata": {},
   "outputs": [
    {
     "name": "stdout",
     "output_type": "stream",
     "text": [
      "['Saemundur', 'Sue']\n"
     ]
    }
   ],
   "source": [
    "# write your code here\n",
    "first_names = [x.split()[0] for x in the_names if x.startswith('S') ]\n",
    "print(first_names)"
   ]
  },
  {
   "cell_type": "markdown",
   "metadata": {},
   "source": [
    "#### From the list of names create a list of unique characters\n",
    "\n",
    "Treat R and r as the same\n",
    "\n",
    "*hint: Remember how to flatten a list with comprehension\\\n",
    "*hint: .lower()"
   ]
  },
  {
   "cell_type": "code",
   "execution_count": 185,
   "metadata": {},
   "outputs": [
    {
     "name": "stdout",
     "output_type": "stream",
     "text": [
      "['Saemundur', 'Sue']\n"
     ]
    },
    {
     "data": {
      "text/plain": [
       "['S', 'a', 'e', 'm', 'u', 'n', 'd', 'u', 'r', 'S', 'u', 'e']"
      ]
     },
     "execution_count": 185,
     "metadata": {},
     "output_type": "execute_result"
    }
   ],
   "source": [
    "# write your code here\n",
    "print(first_names)\n",
    "char = [char for name in first_names for char in name ]\n",
    "char"
   ]
  },
  {
   "cell_type": "markdown",
   "metadata": {},
   "source": [
    "### Use a comprehension to create a list of prime numbers between 1 and 100\n",
    "\n",
    "\n",
    "*hint: The function __any__ returns true if any element in a sequence is true"
   ]
  },
  {
   "cell_type": "code",
   "execution_count": 190,
   "metadata": {},
   "outputs": [
    {
     "ename": "TypeError",
     "evalue": "'list' object cannot be interpreted as an integer",
     "output_type": "error",
     "traceback": [
      "\u001b[1;31m---------------------------------------------------------------------------\u001b[0m",
      "\u001b[1;31mTypeError\u001b[0m                                 Traceback (most recent call last)",
      "\u001b[1;32m~\\AppData\\Local\\Temp/ipykernel_14796/681735536.py\u001b[0m in \u001b[0;36m<module>\u001b[1;34m\u001b[0m\n\u001b[0;32m      1\u001b[0m \u001b[1;31m# write your code here\u001b[0m\u001b[1;33m\u001b[0m\u001b[1;33m\u001b[0m\u001b[0m\n\u001b[1;32m----> 2\u001b[1;33m \u001b[0mx\u001b[0m \u001b[1;33m=\u001b[0m \u001b[1;33m[\u001b[0m\u001b[0mn\u001b[0m \u001b[1;32mfor\u001b[0m \u001b[0mn\u001b[0m \u001b[1;32min\u001b[0m \u001b[0mrange\u001b[0m \u001b[1;33m(\u001b[0m \u001b[1;36m2\u001b[0m\u001b[1;33m,\u001b[0m\u001b[0mx\u001b[0m\u001b[1;33m)\u001b[0m \u001b[1;32mfor\u001b[0m \u001b[0mx\u001b[0m \u001b[1;32min\u001b[0m \u001b[0mrange\u001b[0m \u001b[1;33m(\u001b[0m \u001b[1;36m2\u001b[0m\u001b[1;33m,\u001b[0m\u001b[1;36m100\u001b[0m\u001b[1;33m)\u001b[0m  \u001b[1;32mif\u001b[0m \u001b[0mx\u001b[0m\u001b[1;33m%\u001b[0m\u001b[0mn\u001b[0m\u001b[1;33m==\u001b[0m\u001b[1;36m0\u001b[0m\u001b[1;33m]\u001b[0m\u001b[1;33m\u001b[0m\u001b[1;33m\u001b[0m\u001b[0m\n\u001b[0m\u001b[0;32m      3\u001b[0m \u001b[0mx\u001b[0m\u001b[1;33m\u001b[0m\u001b[1;33m\u001b[0m\u001b[0m\n",
      "\u001b[1;31mTypeError\u001b[0m: 'list' object cannot be interpreted as an integer"
     ]
    }
   ],
   "source": [
    "# write your code here\n",
    "x = [n   for x in range ( 2,100)  if x%n==0]\n",
    "x"
   ]
  }
 ],
 "metadata": {
  "kernelspec": {
   "display_name": "Python 3 (ipykernel)",
   "language": "python",
   "name": "python3"
  },
  "language_info": {
   "codemirror_mode": {
    "name": "ipython",
    "version": 3
   },
   "file_extension": ".py",
   "mimetype": "text/x-python",
   "name": "python",
   "nbconvert_exporter": "python",
   "pygments_lexer": "ipython3",
   "version": "3.9.7"
  }
 },
 "nbformat": 4,
 "nbformat_minor": 2
}
