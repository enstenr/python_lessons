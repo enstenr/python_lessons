{
 "cells": [
  {
   "cell_type": "code",
   "execution_count": 1,
   "metadata": {},
   "outputs": [
    {
     "name": "stdout",
     "output_type": "stream",
     "text": [
      "[[34.  3. 63. ... 19.  2.  2.]\n",
      " [ 5.  2. 68. ... 17.  1.  1.]\n",
      " [65.  2. 60. ... 11.  2.  3.]\n",
      " ...\n",
      " [ 7.  0. 46. ... 13.  1.  2.]\n",
      " [52.  2. 53. ... 15.  6.  3.]\n",
      " [45.  2. 63. ... 15.  7.  2.]]\n"
     ]
    }
   ],
   "source": [
    "import numpy as np\n",
    "\n",
    "sleep = np.loadtxt('data/sleep.csv', skiprows=1, delimiter=',')\n",
    "print(sleep)"
   ]
  },
  {
   "cell_type": "code",
   "execution_count": 2,
   "metadata": {},
   "outputs": [
    {
     "data": {
      "text/plain": [
       "(1467, 9)"
      ]
     },
     "execution_count": 2,
     "metadata": {},
     "output_type": "execute_result"
    }
   ],
   "source": [
    "# ask some question to the numpy array \n",
    "sleep.shape"
   ]
  },
  {
   "cell_type": "code",
   "execution_count": 4,
   "metadata": {},
   "outputs": [
    {
     "name": "stdout",
     "output_type": "stream",
     "text": [
      " Average excercise per minute 41.80299931833674\n"
     ]
    },
    {
     "data": {
      "text/plain": [
       "array([34.,  5., 65., ...,  7., 52., 45.])"
      ]
     },
     "execution_count": 4,
     "metadata": {},
     "output_type": "execute_result"
    }
   ],
   "source": [
    "# printing average excercise per minute \n",
    "print(f' Average excercise per minute {np.average(sleep[:, 0])}')\n",
    "sleep[:, 0]"
   ]
  },
  {
   "cell_type": "code",
   "execution_count": 6,
   "metadata": {},
   "outputs": [
    {
     "name": "stdout",
     "output_type": "stream",
     "text": [
      "4.0\n",
      "1.0\n"
     ]
    }
   ],
   "source": [
    "# max sleep rating. \n",
    "print(np.max(sleep[:, 8]))\n",
    "print(np.min(sleep[:, 8]))"
   ]
  },
  {
   "cell_type": "code",
   "execution_count": 11,
   "metadata": {},
   "outputs": [
    {
     "name": "stdout",
     "output_type": "stream",
     "text": [
      "2.713467048710602\n",
      "2.2808398950131235\n"
     ]
    }
   ],
   "source": [
    "no_coffee = sleep[sleep[:, 1] == 0]\n",
    "no_coffee\n",
    "print(np.average(no_coffee[:, 8]))\n",
    "with_coffee = sleep[sleep[:, 1] == 3]\n",
    "print(np.average(with_coffee[:, 8]))\n",
    "\n"
   ]
  },
  {
   "cell_type": "code",
   "execution_count": 22,
   "metadata": {},
   "outputs": [
    {
     "name": "stdout",
     "output_type": "stream",
     "text": [
      "3.0 0.0\n",
      "0 2.713467048710602\n",
      "1 2.5726256983240225\n",
      "2 2.4564643799472297\n",
      "3 2.2808398950131235\n"
     ]
    }
   ],
   "source": [
    "# max coffee \n",
    "\n",
    "max_coffee = np.max(sleep[:, 1])\n",
    "min_coffee = np.min(sleep[:, 1])\n",
    "print(max_coffee, min_coffee)\n",
    "for x in range(int(min_coffee), int(max_coffee) + 1):\n",
    "    x_coffee = sleep[sleep[:, 1] == x]\n",
    "    print(x, np.average(x_coffee[:, 8]))\n",
    "    np.savetxt('data/sleep2.csv', x_coffee, delimiter=',',\n",
    "               header='Excercise in min , Coffees, Av', fmt='%d')"
   ]
  }
 ],
 "metadata": {
  "kernelspec": {
   "display_name": "Python 3",
   "language": "python",
   "name": "python3"
  },
  "language_info": {
   "codemirror_mode": {
    "name": "ipython",
    "version": 3
   },
   "file_extension": ".py",
   "mimetype": "text/x-python",
   "name": "python",
   "nbconvert_exporter": "python",
   "pygments_lexer": "ipython3",
   "version": "3.8.3"
  }
 },
 "nbformat": 4,
 "nbformat_minor": 4
}
