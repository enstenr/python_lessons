{
 "cells": [
  {
   "cell_type": "markdown",
   "metadata": {},
   "source": [
    "# Tuples\n"
   ]
  },
  {
   "cell_type": "code",
   "execution_count": 3,
   "metadata": {},
   "outputs": [
    {
     "name": "stdout",
     "output_type": "stream",
     "text": [
      "(2, 1, 4, 4)\n",
      "Help on built-in function len in module builtins:\n",
      "\n",
      "len(obj, /)\n",
      "    Return the number of items in a container.\n",
      "\n"
     ]
    }
   ],
   "source": [
    "# ordered , unchangeable , allows duplicate data structures\n",
    "mytuple=(2,1,4,4)\n",
    "print(mytuple)\n",
    "help(len)"
   ]
  },
  {
   "cell_type": "code",
   "execution_count": 6,
   "metadata": {},
   "outputs": [
    {
     "name": "stdout",
     "output_type": "stream",
     "text": [
      "(1,)\n",
      "2\n",
      "<class 'tuple'>\n",
      "<class 'int'>\n"
     ]
    },
    {
     "ename": "TypeError",
     "evalue": "tuple expected at most 1 argument, got 3",
     "output_type": "error",
     "traceback": [
      "\u001b[1;31m---------------------------------------------------------------------------\u001b[0m",
      "\u001b[1;31mTypeError\u001b[0m                                 Traceback (most recent call last)",
      "\u001b[1;32m<ipython-input-6-37b7c0e1877c>\u001b[0m in \u001b[0;36m<module>\u001b[1;34m\u001b[0m\n\u001b[0;32m      8\u001b[0m \u001b[1;33m\u001b[0m\u001b[0m\n\u001b[0;32m      9\u001b[0m \u001b[1;31m# tuple can be formed using  tuple( ) keyword. note the paranthesis inside,\u001b[0m\u001b[1;33m\u001b[0m\u001b[1;33m\u001b[0m\u001b[1;33m\u001b[0m\u001b[0m\n\u001b[1;32m---> 10\u001b[1;33m \u001b[0mcustomtuple\u001b[0m\u001b[1;33m=\u001b[0m\u001b[0mtuple\u001b[0m\u001b[1;33m(\u001b[0m\u001b[1;36m1\u001b[0m\u001b[1;33m,\u001b[0m\u001b[1;36m2\u001b[0m\u001b[1;33m,\u001b[0m\u001b[1;36m3\u001b[0m\u001b[1;33m)\u001b[0m \u001b[1;31m# this is wrong , we need to give double paranthesis\u001b[0m\u001b[1;33m\u001b[0m\u001b[1;33m\u001b[0m\u001b[0m\n\u001b[0m\u001b[0;32m     11\u001b[0m \u001b[0mcustomtuple1\u001b[0m\u001b[1;33m=\u001b[0m\u001b[0mtuple\u001b[0m\u001b[1;33m(\u001b[0m\u001b[1;33m(\u001b[0m\u001b[1;36m1\u001b[0m\u001b[1;33m,\u001b[0m\u001b[1;36m2\u001b[0m\u001b[1;33m,\u001b[0m\u001b[1;36m3\u001b[0m\u001b[1;33m)\u001b[0m\u001b[1;33m)\u001b[0m\u001b[1;33m\u001b[0m\u001b[1;33m\u001b[0m\u001b[0m\n",
      "\u001b[1;31mTypeError\u001b[0m: tuple expected at most 1 argument, got 3"
     ]
    }
   ],
   "source": [
    "oneitemtuple=(1,)\n",
    "nottuple=(2)\n",
    "print(oneitemtuple)\n",
    "print(nottuple)\n",
    "print(type(oneitemtuple))\n",
    "print(type(nottuple))\n",
    "# i note that , if the comma at the end is not there with single item, then this is not considered as tuple. else it is tuple\n",
    "\n",
    "# tuple can be formed using  tuple( ) keyword. note the paranthesis inside, \n",
    "customtuple=tuple(1,2,3) # this is wrong , we need to give double paranthesis \n",
    "customtuple1=tuple((1,2,3))"
   ]
  },
  {
   "cell_type": "markdown",
   "metadata": {},
   "source": [
    "# Access tuple\n"
   ]
  },
  {
   "cell_type": "code",
   "execution_count": 14,
   "metadata": {},
   "outputs": [
    {
     "name": "stdout",
     "output_type": "stream",
     "text": [
      "4\n",
      "(4,)\n",
      "1\n"
     ]
    }
   ],
   "source": [
    "# tuple can be accessed using index like list \n",
    "print(mytuple[2])\n",
    "# tuple can also be accessed using range of index  , notice the last comma being displayed here\n",
    "print(mytuple[2:3])\n",
    "# negative indexing is also possible \n",
    "print(mytuple[-3])\n"
   ]
  },
  {
   "cell_type": "markdown",
   "metadata": {},
   "source": [
    "# Add items "
   ]
  },
  {
   "cell_type": "code",
   "execution_count": 4,
   "metadata": {},
   "outputs": [
    {
     "name": "stdout",
     "output_type": "stream",
     "text": [
      "(1, 3, 5, 6)\n"
     ]
    }
   ],
   "source": [
    "# items cannot be added to tuple directly as they are immutable, but a tuple can be added to a tuple . \n",
    "# we can convert a tuple to a list and then add to list and convert back to tuple \n",
    "\n",
    "t = tuple (( 1,3,5))\n",
    "\n",
    "l = list(t) \n",
    "l.append(6)\n",
    "\n",
    "t = tuple(l)\n",
    "\n",
    "print(t )"
   ]
  },
  {
   "cell_type": "markdown",
   "metadata": {},
   "source": [
    "# Remove Items"
   ]
  },
  {
   "cell_type": "code",
   "execution_count": 5,
   "metadata": {},
   "outputs": [
    {
     "name": "stdout",
     "output_type": "stream",
     "text": [
      "(1, 2)\n"
     ]
    }
   ],
   "source": [
    "# as tuples are immutalbe, we have to convert back to list , remove item and then convert to tuple \n",
    "\n",
    "t = tuple((1,2,3))\n",
    "\n",
    "l = list(t)\n",
    "l.remove(3)\n",
    "\n",
    "t = tuple(l)\n",
    "\n",
    "print(t)"
   ]
  },
  {
   "cell_type": "markdown",
   "metadata": {},
   "source": [
    "# Unpacking "
   ]
  },
  {
   "cell_type": "code",
   "execution_count": 10,
   "metadata": {},
   "outputs": [
    {
     "name": "stdout",
     "output_type": "stream",
     "text": [
      "apple cherry\n",
      "['mangoe', ' strawberry', ' bananae ', 'cherry']\n",
      "apple ['mangoe', ' strawberry', ' bananae '] cherry\n"
     ]
    }
   ],
   "source": [
    "#  we can unpack the values from tuple into variables \n",
    "fruit = ( 'apple', 'mangoe', ' strawberry', ' bananae ', 'cherry')\n",
    "(f1,f2,f3,f4,f5) = fruit \n",
    "print( f1, f5 )\n",
    "\n",
    "# if the variable is less than tuple value, the use asterik to unpack it as list \n",
    "\n",
    "(f1, *f2) = fruit\n",
    "print(f2)\n",
    "\n",
    "(f1, *f2,f5) = fruit\n",
    "print( f1,f2,f5)"
   ]
  },
  {
   "cell_type": "markdown",
   "metadata": {},
   "source": [
    "# Loop tuples"
   ]
  },
  {
   "cell_type": "code",
   "execution_count": 13,
   "metadata": {},
   "outputs": [
    {
     "name": "stdout",
     "output_type": "stream",
     "text": [
      "1\n",
      "2\n",
      "3\n",
      "4\n",
      "5\n",
      "1\n",
      "2\n",
      "3\n",
      "4\n",
      "5\n"
     ]
    }
   ],
   "source": [
    "# Using for and while we can loop through tuple \n",
    "t = ( 1,2,3,4,5) \n",
    "\n",
    "for x in range(len(t)):\n",
    "    print(t[x])\n",
    "    \n",
    "\n",
    "count = 0 \n",
    "\n",
    "while count < len(t):\n",
    "    print( t[count])\n",
    "    \n",
    "    # increement the variable or you will land up infinite loop as i did \n",
    "    count = count + 1 "
   ]
  },
  {
   "cell_type": "markdown",
   "metadata": {},
   "source": [
    "# join tuples"
   ]
  },
  {
   "cell_type": "code",
   "execution_count": 15,
   "metadata": {},
   "outputs": [
    {
     "name": "stdout",
     "output_type": "stream",
     "text": [
      "(1, 2, 3, 'a', 'b', 'c')\n",
      "(1, 2, 3, 'a', 'b', 'c', 'a', 'b', 'c')\n"
     ]
    }
   ],
   "source": [
    "t1 = (1,2,3)\n",
    "t2 = ( 'a','b','c')\n",
    "tr = t1+ t2 \n",
    "\n",
    "print( tr)\n",
    "\n",
    "#multiply tuple \n",
    "\n",
    "tr = t1+ 2*t2\n",
    "print(tr)"
   ]
  },
  {
   "cell_type": "markdown",
   "metadata": {},
   "source": [
    "# tuple inbuilt methods "
   ]
  },
  {
   "cell_type": "code",
   "execution_count": 19,
   "metadata": {},
   "outputs": [
    {
     "name": "stdout",
     "output_type": "stream",
     "text": [
      "2\n",
      "2\n"
     ]
    }
   ],
   "source": [
    "#count() returns the count of occuranceof a number \n",
    "\n",
    "t = ( 1,2,3,1)\n",
    "print( t.count(1))\n",
    "\n",
    "# index returns the index of  number \n",
    "print(t.index(3))"
   ]
  }
 ],
 "metadata": {
  "kernelspec": {
   "display_name": "Python 3",
   "language": "python",
   "name": "python3"
  },
  "language_info": {
   "codemirror_mode": {
    "name": "ipython",
    "version": 3
   },
   "file_extension": ".py",
   "mimetype": "text/x-python",
   "name": "python",
   "nbconvert_exporter": "python",
   "pygments_lexer": "ipython3",
   "version": "3.8.3"
  }
 },
 "nbformat": 4,
 "nbformat_minor": 4
}
