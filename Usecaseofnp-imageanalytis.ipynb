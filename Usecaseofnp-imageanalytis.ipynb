{
 "cells": [
  {
   "cell_type": "code",
   "execution_count": 18,
   "metadata": {},
   "outputs": [
    {
     "data": {
      "image/png": "[encoded data removed]",
      "text/plain": [
       "<Figure size 432x288 with 1 Axes>"
      ]
     },
     "metadata": {
      "needs_background": "light"
     },
     "output_type": "display_data"
    }
   ],
   "source": [
    "import numpy as np\n",
    "import matplotlib.pyplot as plt \n",
    "image = np.random.randint(0,256,(10,10))\n",
    "image\n",
    "plt.imshow(image,cmap='gray')\n",
    "plt.show()"
   ]
  },
  {
   "cell_type": "code",
   "execution_count": 19,
   "metadata": {},
   "outputs": [
    {
     "data": {
      "text/plain": [
       "array([[0.01904082, 0.89649328, 0.5931743 , 0.89817933, 0.52607788,\n",
       "        0.41377828, 0.31197614, 0.26113704, 0.83379597, 0.60665247],\n",
       "       [0.00578322, 0.95350498, 0.26830332, 0.62320469, 0.0205614 ,\n",
       "        0.84514066, 0.84574626, 0.06375056, 0.17102582, 0.36268963],\n",
       "       [0.82482315, 0.89966796, 0.13055813, 0.43336269, 0.03029237,\n",
       "        0.56662835, 0.44747631, 0.29042717, 0.97013125, 0.36971106],\n",
       "       [0.36596682, 0.7432744 , 0.78452516, 0.85088088, 0.81176145,\n",
       "        0.26732715, 0.25761645, 0.80051527, 0.05442186, 0.42320582],\n",
       "       [0.49505074, 0.21095109, 0.86914347, 0.0042273 , 0.96768119,\n",
       "        0.1241433 , 0.50198446, 0.79147252, 0.4199018 , 0.85927664],\n",
       "       [0.32313419, 0.30385149, 0.33768156, 0.3905897 , 0.99366862,\n",
       "        0.70849816, 0.10602177, 0.48235926, 0.31174971, 0.89761207],\n",
       "       [0.32311386, 0.66562252, 0.17007508, 0.42319928, 0.52318483,\n",
       "        0.78308131, 0.39310356, 0.75754939, 0.35466549, 0.11538088],\n",
       "       [0.98957292, 0.76800723, 0.13885631, 0.05007393, 0.44794035,\n",
       "        0.87652962, 0.52872622, 0.04464776, 0.10713936, 0.13060059],\n",
       "       [0.2897394 , 0.30053344, 0.27597872, 0.2967601 , 0.31024713,\n",
       "        0.47745052, 0.7941523 , 0.90303154, 0.70734819, 0.07707475],\n",
       "       [0.99992546, 0.60956995, 0.57590473, 0.47712398, 0.27575244,\n",
       "        0.95726166, 0.32222216, 0.84255859, 0.97164571, 0.96795434]])"
      ]
     },
     "execution_count": 19,
     "metadata": {},
     "output_type": "execute_result"
    }
   ],
   "source": [
    "\n",
    "brightness_mask = np.random.random((10,10))\n",
    "\n",
    "brightness_mask"
   ]
  },
  {
   "cell_type": "code",
   "execution_count": 26,
   "metadata": {},
   "outputs": [
    {
     "data": {
      "image/png": "[encoded data removed]",
      "text/plain": [
       "<Figure size 432x288 with 1 Axes>"
      ]
     },
     "metadata": {
      "needs_background": "light"
     },
     "output_type": "display_data"
    },
    {
     "data": {
      "text/plain": [
       "array([ 54, 172,  16,  39, 189, 202, 247, 183, 252, 148, 181,  65,  42,\n",
       "       132,  89,  69,  37,  10, 114, 203, 202,  66,  65,  56, 122, 119,\n",
       "        91,  35, 158, 214, 127,  73, 186, 155,  65,   4, 224, 217, 171,\n",
       "       109, 228, 240, 223,  85,  63])"
      ]
     },
     "execution_count": 26,
     "metadata": {},
     "output_type": "execute_result"
    }
   ],
   "source": [
    "bright_spots = brightness_mask>0.5\n",
    "\n",
    "bright_spots\n",
    "\n",
    "bright_pixels = image[bright_spots]\n",
    "bright_pixels\n",
    "\n",
    "plt.imshow(image,cmap='gray')\n",
    "plt.title('Grayscale Image')\n",
    "plt.show()\n",
    "bright_pixels"
   ]
  },
  {
   "cell_type": "code",
   "execution_count": 13,
   "metadata": {},
   "outputs": [
    {
     "data": {
      "text/plain": [
       "array([False, False,  True,  True,  True,  True])"
      ]
     },
     "execution_count": 13,
     "metadata": {},
     "output_type": "execute_result"
    }
   ],
   "source": [
    "t = np.array([2,4,6,7,8,9])\n",
    "t>5"
   ]
  }
 ],
 "metadata": {
  "kernelspec": {
   "display_name": "Python 3",
   "language": "python",
   "name": "python3"
  },
  "language_info": {
   "codemirror_mode": {
    "name": "ipython",
    "version": 3
   },
   "file_extension": ".py",
   "mimetype": "text/x-python",
   "name": "python",
   "nbconvert_exporter": "python",
   "pygments_lexer": "ipython3",
   "version": "3.8.3"
  }
 },
 "nbformat": 4,
 "nbformat_minor": 4
}
