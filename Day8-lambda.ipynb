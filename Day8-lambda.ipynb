{
 "cells": [
  {
   "cell_type": "code",
   "execution_count": 5,
   "metadata": {},
   "outputs": [],
   "source": [
    "# lambda are anonymous function \n",
    "\n",
    "sqfunc = lambda x:x*x\n",
    "\n"
   ]
  },
  {
   "cell_type": "code",
   "execution_count": 7,
   "metadata": {},
   "outputs": [
    {
     "data": {
      "text/plain": [
       "25"
      ]
     },
     "execution_count": 7,
     "metadata": {},
     "output_type": "execute_result"
    }
   ],
   "source": [
    "sqfunc(5)"
   ]
  },
  {
   "cell_type": "code",
   "execution_count": 8,
   "metadata": {},
   "outputs": [
    {
     "name": "stdout",
     "output_type": "stream",
     "text": [
      "125\n"
     ]
    }
   ],
   "source": [
    "# defining a higher order function \n",
    "\n",
    "def highfun(x,y):\n",
    "    print(y(x))\n",
    "    \n",
    "    \n",
    "highfun(5,lambda x:x*x*x)\n",
    "    "
   ]
  },
  {
   "cell_type": "code",
   "execution_count": 22,
   "metadata": {},
   "outputs": [
    {
     "name": "stdout",
     "output_type": "stream",
     "text": [
      "[2, 4]\n",
      "1 2\n",
      "3 3\n",
      "6 4\n",
      "10\n"
     ]
    }
   ],
   "source": [
    "lst = [x for x in range ( 1,5)]\n",
    "flist = list(filter( lambda x:x%2==0  ,lst))\n",
    "print(flist)\n",
    "\n",
    "fmap = list(map(lambda y: y**3,lst))\n",
    "fmap\n",
    "\n",
    "from functools import reduce \n",
    "\n",
    "# the first argument will be the result of the previous function \n",
    "def red_sum(x,y):\n",
    "    print(x,y)\n",
    "    return x+y\n",
    "sum_list = reduce(red_sum,lst)\n",
    "print(sum_list)"
   ]
  }
 ],
 "metadata": {
  "kernelspec": {
   "display_name": "Python 3",
   "language": "python",
   "name": "python3"
  },
  "language_info": {
   "codemirror_mode": {
    "name": "ipython",
    "version": 3
   },
   "file_extension": ".py",
   "mimetype": "text/x-python",
   "name": "python",
   "nbconvert_exporter": "python",
   "pygments_lexer": "ipython3",
   "version": "3.8.3"
  }
 },
 "nbformat": 4,
 "nbformat_minor": 4
}
