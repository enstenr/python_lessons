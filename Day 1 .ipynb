{
 "cells": [
  {
   "cell_type": "markdown",
   "metadata": {},
   "source": [
    "# using markdown \n"
   ]
  },
  {
   "cell_type": "markdown",
   "metadata": {},
   "source": [
    "# major heading\n",
    "## second level heading \n",
    "### third level heading \n",
    "#### As i type the hash i can see the size of text reducing. this is fourth level heading\n",
    "\n",
    "\n",
    "**Bold** \n",
    "\n",
    "i can use either double underscore or double asterisk at start and end of a text to make it bold \n",
    "__string__  **bold string** \n",
    "if i use single underscore or asterisk, i can see the text coming as italics\n",
    "\n",
    "\n",
    "**maths symbol**\n",
    "\n",
    "2y+ 5x = 10 z \n",
    "\n",
    "To write this as maths equation, i have to wrap it with a dollar symbol as below \n",
    "\n",
    "$2y+ 5x = 10 z$\n",
    "\n",
    "** mono space font ** \n",
    "\n",
    "mono space fonts occupy same space for all characters . this can be achieved by using single quotes at start and end ' like this ' \n",
    "While exploring, if i gave tild symbol, i ` at start and end `\n"
   ]
  }
 ],
 "metadata": {
  "kernelspec": {
   "display_name": "Python 3",
   "language": "python",
   "name": "python3"
  },
  "language_info": {
   "codemirror_mode": {
    "name": "ipython",
    "version": 3
   },
   "file_extension": ".py",
   "mimetype": "text/x-python",
   "name": "python",
   "nbconvert_exporter": "python",
   "pygments_lexer": "ipython3",
   "version": "3.8.3"
  }
 },
 "nbformat": 4,
 "nbformat_minor": 4
}
