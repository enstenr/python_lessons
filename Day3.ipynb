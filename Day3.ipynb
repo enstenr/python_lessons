{
 "cells": [
  {
   "cell_type": "markdown",
   "metadata": {},
   "source": [
    "# Data structures in python"
   ]
  },
  {
   "cell_type": "markdown",
   "metadata": {},
   "source": [
    "# lists"
   ]
  },
  {
   "cell_type": "code",
   "execution_count": 63,
   "metadata": {},
   "outputs": [
    {
     "name": "stdout",
     "output_type": "stream",
     "text": [
      "['India', 'UK', 'Singapore', 'Korea']\n",
      "[5, 5, 2, 1, 6, 8, 9, 5, 10, 11]\n"
     ]
    }
   ],
   "source": [
    "# we have different data structures in python namely , list , set, tuple and dictionary \n",
    "#lets create a list of countries with India, UK , Singapore, Korea \n",
    "# i can use double quotation or single quotation to wrap the string literal , both works fine \n",
    "\n",
    "countries_list=['India',\"UK\",'Singapore','Korea']\n",
    "print(countries_list)\n",
    "\n",
    "#lists can store duplicate and ordered. ie , the element retain the same position as it was added \n",
    "int_list=[ 5,5,2,1,6,8,9,5,10,11]\n",
    "\n",
    "print(int_list)"
   ]
  },
  {
   "cell_type": "markdown",
   "metadata": {},
   "source": [
    "#  list elements are ordered"
   ]
  },
  {
   "cell_type": "code",
   "execution_count": 7,
   "metadata": {},
   "outputs": [
    {
     "name": "stdout",
     "output_type": "stream",
     "text": [
      "<class 'list'>\n"
     ]
    }
   ],
   "source": [
    "# printing the type of the data type for list variable \n",
    "print(type(int_list))"
   ]
  },
  {
   "cell_type": "code",
   "execution_count": 27,
   "metadata": {},
   "outputs": [
    {
     "name": "stdout",
     "output_type": "stream",
     "text": [
      "5\n",
      "UK\n",
      "[5, 5, 2, 1]\n",
      "[5, 5, 2, 1]\n",
      "[6, 8, 9, 5, 10, 11]\n",
      "[10]\n",
      "[5, 10, 11]\n",
      " uk is present \n"
     ]
    }
   ],
   "source": [
    "# access list \n",
    "# lists can be access from index of 0  , index also can go from last, -1 is last item and -2 is last but second and etc..\n",
    "print(int_list[0])\n",
    "print(countries_list[-3])\n",
    "\n",
    "# range of index , we can give range of index to access , we specify the start index and end index. the end index is not included\n",
    "print(int_list[0:4])\n",
    "\n",
    "# we can also ignore the start index and the values will be taken from start\n",
    "print(int_list[:4])\n",
    "# we can also ignore the end index and the values will be taken till end of the list \n",
    "print(int_list[4:])\n",
    "\n",
    "# we can also go over reverse by specifying negative index \n",
    "print(int_list[-2:-1])\n",
    "\n",
    "print(int_list[-3:])\n",
    "\n",
    "# check if an element is present in the list \n",
    "if \"UK\" in countries_list:\n",
    "    print(' uk is present ')"
   ]
  },
  {
   "cell_type": "markdown",
   "metadata": {},
   "source": [
    "# change list item "
   ]
  },
  {
   "cell_type": "code",
   "execution_count": 30,
   "metadata": {},
   "outputs": [
    {
     "ename": "IndexError",
     "evalue": "list assignment index out of range",
     "output_type": "error",
     "traceback": [
      "\u001b[1;31m---------------------------------------------------------------------------\u001b[0m",
      "\u001b[1;31mIndexError\u001b[0m                                Traceback (most recent call last)",
      "\u001b[1;32m<ipython-input-30-7de2abf5c0e1>\u001b[0m in \u001b[0;36m<module>\u001b[1;34m\u001b[0m\n\u001b[0;32m      1\u001b[0m \u001b[1;31m# to udpate an item at specific index, we have to give the index and the new value\u001b[0m\u001b[1;33m\u001b[0m\u001b[1;33m\u001b[0m\u001b[1;33m\u001b[0m\u001b[0m\n\u001b[1;32m----> 2\u001b[1;33m \u001b[0mcountries_list\u001b[0m\u001b[1;33m[\u001b[0m\u001b[1;36m4\u001b[0m\u001b[1;33m]\u001b[0m\u001b[1;33m=\u001b[0m\u001b[1;34m\"Malaysia\"\u001b[0m\u001b[1;33m\u001b[0m\u001b[1;33m\u001b[0m\u001b[0m\n\u001b[0m\u001b[0;32m      3\u001b[0m \u001b[1;31m# this doesnt work because the index is out of range from the initial list.\u001b[0m\u001b[1;33m\u001b[0m\u001b[1;33m\u001b[0m\u001b[1;33m\u001b[0m\u001b[0m\n\u001b[0;32m      4\u001b[0m \u001b[0mcountries_list\u001b[0m\u001b[1;33m[\u001b[0m\u001b[1;36m4\u001b[0m\u001b[1;33m]\u001b[0m\u001b[1;33m=\u001b[0m\u001b[1;34m\"Malaysia\"\u001b[0m\u001b[1;33m\u001b[0m\u001b[1;33m\u001b[0m\u001b[0m\n",
      "\u001b[1;31mIndexError\u001b[0m: list assignment index out of range"
     ]
    }
   ],
   "source": [
    "# to udpate an item at specific index, we have to give the index and the new value \n",
    "countries_list[4]=\"Malaysia\"\n",
    "# this doesnt work because the index is out of range from the initial list. \n"
   ]
  },
  {
   "cell_type": "code",
   "execution_count": 32,
   "metadata": {},
   "outputs": [],
   "source": [
    "countries_list[3]=\"Malaysia\""
   ]
  },
  {
   "cell_type": "markdown",
   "metadata": {},
   "source": [
    "# change a range of values "
   ]
  },
  {
   "cell_type": "code",
   "execution_count": 38,
   "metadata": {},
   "outputs": [
    {
     "name": "stdout",
     "output_type": "stream",
     "text": [
      "['India', 'UK', 'Singapore', 'Korea']\n",
      "['India', ' India ', 'UK', 'Srilanka', 'Korea']\n"
     ]
    }
   ],
   "source": [
    "print(countries_list)\n",
    "countries_list[1:3]=[\" India \",'UK','Srilanka']\n",
    "print(countries_list)\n",
    "# this looks interesting because, we can give the target index ranges and multiple values ,\n",
    "# in this case i asked to replace with 3 values instead of 2 values. so the list size is increased "
   ]
  },
  {
   "cell_type": "markdown",
   "metadata": {},
   "source": [
    "# Add items to list "
   ]
  },
  {
   "cell_type": "code",
   "execution_count": 64,
   "metadata": {},
   "outputs": [
    {
     "name": "stdout",
     "output_type": "stream",
     "text": [
      "['India', 'UK', 'Singapore', 'Korea', 'Japan']\n",
      "['Germany', 'India', 'UK', 'Singapore', 'Korea', 'Japan']\n",
      "['Germany', 'India', 'UK', 'Singapore', 'Korea', 'Japan', 1, 2]\n"
     ]
    }
   ],
   "source": [
    "# there are multiple ways to achieve this \n",
    "# append() this will add the item at the end of the list \n",
    "countries_list.append('Japan')\n",
    "print(countries_list)\n",
    "# insert(index,item) this will add the item to the specific index. as a result the existing will be pushed to right \n",
    "countries_list.insert(0,'Germany')\n",
    "print(countries_list)\n",
    "# extend(collection) using this we can add multiple collection . need to check how this works when a list is extended with dict\n",
    "dict={1:'a',2:'b'}\n",
    "countries_list.extend(dict)\n",
    "print(countries_list)\n",
    "# with dict, only the keys are getting appended as list items "
   ]
  },
  {
   "cell_type": "markdown",
   "metadata": {},
   "source": [
    "# remove item from list "
   ]
  },
  {
   "cell_type": "code",
   "execution_count": 51,
   "metadata": {},
   "outputs": [
    {
     "ename": "ValueError",
     "evalue": "list.remove(x): x not in list",
     "output_type": "error",
     "traceback": [
      "\u001b[1;31m---------------------------------------------------------------------------\u001b[0m",
      "\u001b[1;31mValueError\u001b[0m                                Traceback (most recent call last)",
      "\u001b[1;32m<ipython-input-51-f81eea29784b>\u001b[0m in \u001b[0;36m<module>\u001b[1;34m\u001b[0m\n\u001b[0;32m      1\u001b[0m \u001b[1;31m# remove() method removes the first occurances if any of the item\u001b[0m\u001b[1;33m\u001b[0m\u001b[1;33m\u001b[0m\u001b[1;33m\u001b[0m\u001b[0m\n\u001b[1;32m----> 2\u001b[1;33m \u001b[0mcountries_list\u001b[0m\u001b[1;33m.\u001b[0m\u001b[0mremove\u001b[0m\u001b[1;33m(\u001b[0m\u001b[1;34m'Japan'\u001b[0m\u001b[1;33m)\u001b[0m\u001b[1;33m\u001b[0m\u001b[1;33m\u001b[0m\u001b[0m\n\u001b[0m\u001b[0;32m      3\u001b[0m \u001b[0mprint\u001b[0m\u001b[1;33m(\u001b[0m\u001b[0mcountries_list\u001b[0m\u001b[1;33m)\u001b[0m\u001b[1;33m\u001b[0m\u001b[1;33m\u001b[0m\u001b[0m\n",
      "\u001b[1;31mValueError\u001b[0m: list.remove(x): x not in list"
     ]
    }
   ],
   "source": [
    "# remove() method removes the first occurances if any of the item \n",
    "countries_list.remove('Japan')\n",
    "print(countries_list)\n",
    "# if the item is not present, then this will throw error "
   ]
  },
  {
   "cell_type": "markdown",
   "metadata": {},
   "source": [
    "# using pop to remove an item from an index"
   ]
  },
  {
   "cell_type": "code",
   "execution_count": 65,
   "metadata": {},
   "outputs": [
    {
     "name": "stdout",
     "output_type": "stream",
     "text": [
      "['Germany', 'India', 'Singapore', 'Korea', 'Japan', 1, 2]\n"
     ]
    }
   ],
   "source": [
    "countries_list.pop(2)\n",
    "print(countries_list)"
   ]
  },
  {
   "cell_type": "code",
   "execution_count": 66,
   "metadata": {},
   "outputs": [],
   "source": [
    "# using del to remove an item or if not provided will remove the entire list \n",
    "del countries_list[0]"
   ]
  },
  {
   "cell_type": "code",
   "execution_count": 61,
   "metadata": {},
   "outputs": [
    {
     "ename": "NameError",
     "evalue": "name 'countries_list' is not defined",
     "output_type": "error",
     "traceback": [
      "\u001b[1;31m---------------------------------------------------------------------------\u001b[0m",
      "\u001b[1;31mNameError\u001b[0m                                 Traceback (most recent call last)",
      "\u001b[1;32m<ipython-input-61-9649f8a8bc01>\u001b[0m in \u001b[0;36m<module>\u001b[1;34m\u001b[0m\n\u001b[0;32m      1\u001b[0m \u001b[1;31m# using del to remove an item or if not provided will remove the entire list\u001b[0m\u001b[1;33m\u001b[0m\u001b[1;33m\u001b[0m\u001b[1;33m\u001b[0m\u001b[0m\n\u001b[1;32m----> 2\u001b[1;33m \u001b[1;32mdel\u001b[0m \u001b[0mcountries_list\u001b[0m\u001b[1;33m[\u001b[0m\u001b[1;36m0\u001b[0m\u001b[1;33m]\u001b[0m\u001b[1;33m\u001b[0m\u001b[1;33m\u001b[0m\u001b[0m\n\u001b[0m\u001b[0;32m      3\u001b[0m \u001b[0mprint\u001b[0m\u001b[1;33m(\u001b[0m\u001b[0mcountries_list\u001b[0m\u001b[1;33m)\u001b[0m\u001b[1;33m\u001b[0m\u001b[1;33m\u001b[0m\u001b[0m\n\u001b[0;32m      4\u001b[0m \u001b[1;33m\u001b[0m\u001b[0m\n\u001b[0;32m      5\u001b[0m \u001b[1;32mdel\u001b[0m \u001b[0mcountries_list\u001b[0m\u001b[1;33m\u001b[0m\u001b[1;33m\u001b[0m\u001b[0m\n",
      "\u001b[1;31mNameError\u001b[0m: name 'countries_list' is not defined"
     ]
    }
   ],
   "source": [
    "\n",
    "print(countries_list)\n",
    "\n",
    "del countries_list\n",
    "\n",
    "# clear() clears the entire list content "
   ]
  },
  {
   "cell_type": "code",
   "execution_count": null,
   "metadata": {},
   "outputs": [],
   "source": [
    "# difference between pop and del. both can be used to remove using an index. but pop returns the removed item but del does not "
   ]
  },
  {
   "cell_type": "markdown",
   "metadata": {},
   "source": [
    "# looping list "
   ]
  },
  {
   "cell_type": "code",
   "execution_count": 71,
   "metadata": {},
   "outputs": [
    {
     "name": "stdout",
     "output_type": "stream",
     "text": [
      "['India', 'Singapore', 'Korea', 'Japan', 1, 2]\n",
      "India\n",
      "Singapore\n",
      "Korea\n",
      "Japan\n",
      "1\n",
      "2\n",
      "India\n",
      "Singapore\n",
      "Korea\n",
      "Japan\n",
      "1\n",
      "2\n",
      "India\n",
      "Singapore\n",
      "Korea\n",
      "Japan\n",
      "1\n",
      "2\n"
     ]
    }
   ],
   "source": [
    "print(countries_list)\n",
    "for country in countries_list:\n",
    "    print(country)\n",
    "    \n",
    "for i in range(len(countries_list)):\n",
    "    print(countries_list[i])\n",
    "\n",
    "i = 0 \n",
    "while i < len(countries_list):\n",
    "    print(countries_list[i])\n",
    "    i = i + 1 "
   ]
  },
  {
   "cell_type": "markdown",
   "metadata": {},
   "source": [
    "# list comprehension "
   ]
  },
  {
   "cell_type": "code",
   "execution_count": 96,
   "metadata": {},
   "outputs": [
    {
     "name": "stdout",
     "output_type": "stream",
     "text": [
      "0         Afghanistan \n",
      "1             Albania \n",
      "2             Algeria \n",
      "3      American Samoa \n",
      "4             Andorra \n",
      "            ...       \n",
      "222         West Bank \n",
      "223    Western Sahara \n",
      "224             Yemen \n",
      "225            Zambia \n",
      "226          Zimbabwe \n",
      "Name: Country, Length: 227, dtype: object\n",
      "['Afghanistan ', 'Albania ', 'Algeria ', 'American Samoa ', 'Andorra ', 'Angola ', 'Anguilla ', 'Antigua & Barbuda ', 'Argentina ', 'Armenia ', 'Aruba ', 'Australia ', 'Austria ', 'Azerbaijan ', 'Bahamas, The ', 'Bahrain ', 'Bangladesh ', 'Barbados ', 'Belarus ', 'Belgium ', 'Belize ', 'Benin ', 'Bermuda ', 'Bhutan ', 'Bolivia ', 'Bosnia & Herzegovina ', 'Botswana ', 'Brazil ', 'British Virgin Is. ', 'Brunei ', 'Bulgaria ', 'Burkina Faso ', 'Burma ', 'Burundi ', 'Cambodia ', 'Cameroon ', 'Canada ', 'Cape Verde ', 'Cayman Islands ', 'Central African Rep. ', 'Chad ', 'Chile ', 'China ', 'Colombia ', 'Comoros ', 'Congo, Dem. Rep. ', 'Congo, Repub. of the ', 'Cook Islands ', 'Costa Rica ', \"Cote d'Ivoire \", 'Croatia ', 'Cuba ', 'Cyprus ', 'Czech Republic ', 'Denmark ', 'Djibouti ', 'Dominica ', 'Dominican Republic ', 'East Timor ', 'Ecuador ', 'Egypt ', 'El Salvador ', 'Equatorial Guinea ', 'Eritrea ', 'Estonia ', 'Ethiopia ', 'Faroe Islands ', 'Fiji ', 'Finland ', 'France ', 'French Guiana ', 'French Polynesia ', 'Gabon ', 'Gambia, The ', 'Gaza Strip ', 'Georgia ', 'Germany ', 'Ghana ', 'Gibraltar ', 'Greece ', 'Greenland ', 'Grenada ', 'Guadeloupe ', 'Guam ', 'Guatemala ', 'Guernsey ', 'Guinea ', 'Guinea-Bissau ', 'Guyana ', 'Haiti ', 'Honduras ', 'Hong Kong ', 'Hungary ', 'Iceland ', 'India ', 'Indonesia ', 'Iran ', 'Iraq ', 'Ireland ', 'Isle of Man ', 'Israel ', 'Italy ', 'Jamaica ', 'Japan ', 'Jersey ', 'Jordan ', 'Kazakhstan ', 'Kenya ', 'Kiribati ', 'Korea, North ', 'Korea, South ', 'Kuwait ', 'Kyrgyzstan ', 'Laos ', 'Latvia ', 'Lebanon ', 'Lesotho ', 'Liberia ', 'Libya ', 'Liechtenstein ', 'Lithuania ', 'Luxembourg ', 'Macau ', 'Macedonia ', 'Madagascar ', 'Malawi ', 'Malaysia ', 'Maldives ', 'Mali ', 'Malta ', 'Marshall Islands ', 'Martinique ', 'Mauritania ', 'Mauritius ', 'Mayotte ', 'Mexico ', 'Micronesia, Fed. St. ', 'Moldova ', 'Monaco ', 'Mongolia ', 'Montserrat ', 'Morocco ', 'Mozambique ', 'Namibia ', 'Nauru ', 'Nepal ', 'Netherlands ', 'Netherlands Antilles ', 'New Caledonia ', 'New Zealand ', 'Nicaragua ', 'Niger ', 'Nigeria ', 'N. Mariana Islands ', 'Norway ', 'Oman ', 'Pakistan ', 'Palau ', 'Panama ', 'Papua New Guinea ', 'Paraguay ', 'Peru ', 'Philippines ', 'Poland ', 'Portugal ', 'Puerto Rico ', 'Qatar ', 'Reunion ', 'Romania ', 'Russia ', 'Rwanda ', 'Saint Helena ', 'Saint Kitts & Nevis ', 'Saint Lucia ', 'St Pierre & Miquelon ', 'Saint Vincent and the Grenadines ', 'Samoa ', 'San Marino ', 'Sao Tome & Principe ', 'Saudi Arabia ', 'Senegal ', 'Serbia ', 'Seychelles ', 'Sierra Leone ', 'Singapore ', 'Slovakia ', 'Slovenia ', 'Solomon Islands ', 'Somalia ', 'South Africa ', 'Spain ', 'Sri Lanka ', 'Sudan ', 'Suriname ', 'Swaziland ', 'Sweden ', 'Switzerland ', 'Syria ', 'Taiwan ', 'Tajikistan ', 'Tanzania ', 'Thailand ', 'Togo ', 'Tonga ', 'Trinidad & Tobago ', 'Tunisia ', 'Turkey ', 'Turkmenistan ', 'Turks & Caicos Is ', 'Tuvalu ', 'Uganda ', 'Ukraine ', 'United Arab Emirates ', 'United Kingdom ', 'United States ', 'Uruguay ', 'Uzbekistan ', 'Vanuatu ', 'Venezuela ', 'Vietnam ', 'Virgin Islands ', 'Wallis and Futuna ', 'West Bank ', 'Western Sahara ', 'Yemen ', 'Zambia ', 'Zimbabwe ']\n"
     ]
    }
   ],
   "source": [
    "from pandas import * \n",
    "data = read_csv('../Documents/countries.csv')\n",
    "print(data['Country'])\n",
    "countries_list=data['Country'].tolist()\n",
    "print(countries_list)"
   ]
  },
  {
   "cell_type": "code",
   "execution_count": 109,
   "metadata": {},
   "outputs": [
    {
     "name": "stdout",
     "output_type": "stream",
     "text": [
      "['Andorra ', 'Antigua & Barbuda ', 'Bangladesh ', 'Barbados ', 'Bermuda ', 'Burundi ', 'Cambodia ', 'Canada ', 'Cape Verde ', 'Cayman Islands ', 'Chad ', 'Cook Islands ', \"Cote d'Ivoire \", 'Ecuador ', 'El Salvador ', 'Faroe Islands ', 'Finland ', 'Greenland ', 'Grenada ', 'Guadeloupe ', 'Honduras ', 'Iceland ', 'India ', 'Indonesia ', 'Ireland ', 'Jordan ', 'Macedonia ', 'Madagascar ', 'Maldives ', 'Marshall Islands ', 'Micronesia, Fed. St. ', 'Moldova ', 'Netherlands ', 'Netherlands Antilles ', 'New Caledonia ', 'New Zealand ', 'N. Mariana Islands ', 'Poland ', 'Rwanda ', 'Saint Vincent and the Grenadines ', 'Saudi Arabia ', 'Solomon Islands ', 'Sudan ', 'Swaziland ', 'Sweden ', 'Switzerland ', 'Thailand ', 'Trinidad & Tobago ', 'Uganda ', 'United Arab Emirates ', 'United Kingdom ', 'United States ', 'Virgin Islands ', 'Wallis and Futuna ']\n",
      "['ANDORRA ', 'AUSTRALIA ', 'BAHRAIN ', 'BRAZIL ', 'CENTRAL AFRICAN REP. ', 'FRANCE ', 'GIBRALTAR ', 'HONDURAS ', 'IRAN ', 'IRAQ ', 'ISRAEL ', 'MONTSERRAT ', 'NICARAGUA ', 'PARAGUAY ', 'SAUDI ARABIA ', 'SIERRA LEONE ', 'UKRAINE ', 'UNITED ARAB EMIRATES ', 'WESTERN SAHARA ']\n"
     ]
    }
   ],
   "source": [
    "# iterate the list\n",
    "new_list=[]\n",
    "for country in countries_list:\n",
    "# if 'd' in the countries_list then add the value to a new list \n",
    "# print the new list \n",
    "    if 'd' in country:\n",
    "        new_list.append(country)\n",
    "\n",
    "print(new_list)\n",
    "\n",
    "comprehended_list=[ x.upper() for x in countries_list if 'ra' in x ]\n",
    "print(comprehended_list)"
   ]
  },
  {
   "cell_type": "code",
   "execution_count": 112,
   "metadata": {},
   "outputs": [
    {
     "name": "stdout",
     "output_type": "stream",
     "text": [
      "['ANDORRA ', 'AUSTRALIA ', 'BAHRAIN ', 'BRAZIL ', 'CENTRAL AFRICAN REP. ', 'FRANCE ', 'GIBRALTAR ', 'HONDURAS ', 'IRAN ', 'IRAQ ', 'ISRAEL ', 'MONTSERRAT ', 'NICARAGUA ', 'PARAGUAY ', 'SAUDI ARABIA ', 'SIERRA LEONE ', 'UKRAINE ', 'UNITED ARAB EMIRATES ', 'WESTERN SAHARA ']\n",
      "['WESTERN SAHARA ', 'UNITED ARAB EMIRATES ', 'UKRAINE ', 'SIERRA LEONE ', 'SAUDI ARABIA ', 'PARAGUAY ', 'NICARAGUA ', 'MONTSERRAT ', 'ISRAEL ', 'IRAQ ', 'IRAN ', 'HONDURAS ', 'GIBRALTAR ', 'FRANCE ', 'CENTRAL AFRICAN REP. ', 'BRAZIL ', 'BAHRAIN ', 'AUSTRALIA ', 'ANDORRA ']\n"
     ]
    }
   ],
   "source": [
    "# sorting the list . default is ascending. \n",
    "comprehended_list.sort()\n",
    "print(comprehended_list)\n",
    "comprehended_list.sort(reverse=True)\n",
    "print(comprehended_list)"
   ]
  },
  {
   "cell_type": "code",
   "execution_count": 117,
   "metadata": {},
   "outputs": [
    {
     "name": "stdout",
     "output_type": "stream",
     "text": [
      "['UNITED ARAB EMIRATES ', 'SAUDI ARABIA ', 'WESTERN SAHARA ', 'UKRAINE ', 'SIERRA LEONE ', 'PARAGUAY ', 'NICARAGUA ', 'MONTSERRAT ', 'ISRAEL ', 'IRAQ ', 'IRAN ', 'HONDURAS ', 'GIBRALTAR ', 'FRANCE ', 'CENTRAL AFRICAN REP. ', 'BRAZIL ', 'BAHRAIN ', 'AUSTRALIA ', 'ANDORRA ']\n"
     ]
    }
   ],
   "source": [
    "# using a key to sort customized\n",
    "def mysort(el):\n",
    "    if 'AB' in el:\n",
    "        return 0\n",
    "    else:\n",
    "        return 1\n",
    "    \n",
    "comprehended_list.sort(key=mysort)\n",
    "print(comprehended_list)"
   ]
  },
  {
   "cell_type": "markdown",
   "metadata": {},
   "source": [
    "# sets"
   ]
  },
  {
   "cell_type": "code",
   "execution_count": 5,
   "metadata": {},
   "outputs": [
    {
     "name": "stdout",
     "output_type": "stream",
     "text": [
      "{1, 2, 5}\n"
     ]
    },
    {
     "ename": "TypeError",
     "evalue": "set expected at most 1 argument, got 5",
     "output_type": "error",
     "traceback": [
      "\u001b[1;31m---------------------------------------------------------------------------\u001b[0m",
      "\u001b[1;31mTypeError\u001b[0m                                 Traceback (most recent call last)",
      "\u001b[1;32m<ipython-input-5-91cae08bf75b>\u001b[0m in \u001b[0;36m<module>\u001b[1;34m\u001b[0m\n\u001b[0;32m      6\u001b[0m \u001b[1;33m\u001b[0m\u001b[0m\n\u001b[0;32m      7\u001b[0m \u001b[1;31m#now i will try to create a set using set() keyword\u001b[0m\u001b[1;33m\u001b[0m\u001b[1;33m\u001b[0m\u001b[1;33m\u001b[0m\u001b[0m\n\u001b[1;32m----> 8\u001b[1;33m \u001b[0mint_set2\u001b[0m\u001b[1;33m=\u001b[0m\u001b[0mset\u001b[0m\u001b[1;33m(\u001b[0m\u001b[1;36m5\u001b[0m\u001b[1;33m,\u001b[0m\u001b[1;36m5\u001b[0m\u001b[1;33m,\u001b[0m\u001b[1;36m2\u001b[0m\u001b[1;33m,\u001b[0m\u001b[1;36m3\u001b[0m\u001b[1;33m,\u001b[0m\u001b[1;36m1\u001b[0m\u001b[1;33m)\u001b[0m\u001b[1;33m\u001b[0m\u001b[1;33m\u001b[0m\u001b[0m\n\u001b[0m\u001b[0;32m      9\u001b[0m \u001b[0mprint\u001b[0m\u001b[1;33m(\u001b[0m\u001b[0mint_set2\u001b[0m\u001b[1;33m)\u001b[0m\u001b[1;33m\u001b[0m\u001b[1;33m\u001b[0m\u001b[0m\n",
      "\u001b[1;31mTypeError\u001b[0m: set expected at most 1 argument, got 5"
     ]
    }
   ],
   "source": [
    "# sets are data structures that doesnt allow duplicate. i need to check if they store in sortedor not . sets must be \n",
    "# initialised using {} or set() \n",
    "int_set={5,5,2,1}\n",
    "print(int_set)\n",
    "# sets store unique and is sorted \n",
    "\n",
    "#now i will try to create a set using set() keyword \n",
    "int_set2=set(5,5,2,3,1)\n",
    "print(int_set2)\n",
    "\n",
    "# The above gave me error because, set expected one argument using the above syntax. i should give double paranthesis "
   ]
  },
  {
   "cell_type": "code",
   "execution_count": 6,
   "metadata": {},
   "outputs": [
    {
     "name": "stdout",
     "output_type": "stream",
     "text": [
      "{1, 2, 3, 5}\n"
     ]
    }
   ],
   "source": [
    "#now i will try to create a set using set() keyword \n",
    "int_set2=set((5,5,2,3,1))\n",
    "print(int_set2)\n"
   ]
  }
 ],
 "metadata": {
  "kernelspec": {
   "display_name": "Python 3",
   "language": "python",
   "name": "python3"
  },
  "language_info": {
   "codemirror_mode": {
    "name": "ipython",
    "version": 3
   },
   "file_extension": ".py",
   "mimetype": "text/x-python",
   "name": "python",
   "nbconvert_exporter": "python",
   "pygments_lexer": "ipython3",
   "version": "3.8.3"
  }
 },
 "nbformat": 4,
 "nbformat_minor": 4
}
