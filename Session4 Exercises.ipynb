{
 "cells": [
  {
   "cell_type": "markdown",
   "metadata": {},
   "source": [
    "# ITNPBD2 Practical exercises. Session 4 Loops, Conditionals and Comprehension\n",
    "\n",
    "By the end of this session, you will be able to:\n",
    "- Write code to execute looping in Python\n",
    "- Use conditional statements to control program flow\n",
    "- Iterate over iterable structures to process their contents one at a time\n",
    "- Use list and set comprehension to process whole data structures"
   ]
  },
  {
   "cell_type": "markdown",
   "metadata": {},
   "source": [
    "# 4.3 Conditionals"
   ]
  },
  {
   "cell_type": "markdown",
   "metadata": {},
   "source": [
    "### Simple conditions\n",
    "Experiment with the 8 comparison operators \"<, <=, ==, >=, >, !=, is, and is not\"\n",
    "\n",
    "Print out the outcome of each of the operators for __a op b__\n",
    "\n",
    "where a = 10 and b = 9\n",
    "\n",
    "Then mix it up and experiement __at will__ by flipping a and be and also creating your own variables"
   ]
  },
  {
   "cell_type": "code",
   "execution_count": null,
   "metadata": {},
   "outputs": [],
   "source": [
    "a = 10\n",
    "b = 9\n",
    "# write your code here"
   ]
  },
  {
   "cell_type": "markdown",
   "metadata": {},
   "source": [
    "### and/or conditions\n",
    "\n",
    "Write these three sentences as programmatical conditions  \n",
    "Start by defining a, b, and c as you like.  \n",
    "write each conditional in a single print statement, so it prints either True or False\n",
    "\n",
    "1. a is both greater than b and at least greate than c but it can also be equal to c\n",
    "2. c is at least equal to a-b, otherwise it should be less than b\n",
    "3. b is equal to how much greater c is or both c is equal to a plus b while b is not greater than a\n",
    "\n",
    "** bonus, can you find a, b, and c such that all three conditions are true?"
   ]
  },
  {
   "cell_type": "code",
   "execution_count": null,
   "metadata": {},
   "outputs": [],
   "source": [
    "# write your code here"
   ]
  },
  {
   "cell_type": "markdown",
   "metadata": {},
   "source": [
    "# if statements\n",
    "Imagine that you have a list of people's names along with their start date and end date of a particular course. Each person is represented as a dictionary, like this:\n",
    "<code>{'name':'Saemi','start':12345,'end':12456}</code>  \n",
    "where the start and end dates are represented as the integer value of a date (*this is actually how most software deals with dates and time, i.e. as integers*)\n",
    "\n",
    "Your task is to implement an if statement that sorts people into 4 possible bins:\n",
    "- __Bin 1__: People that started before date/time 12345 and ended before 12456\n",
    "- __Bin 2__: People that started before date/time 12345 and ended before 12456 with names that begin with 'S'\n",
    "- __Bin 3__: People that started between date/time 12345 and 12456 (not inclusive) with names that begin with a letter before 'F' in the alpahbet.\n",
    "- __Bin 4__: And everyone else\n",
    "\n",
    "You are only supposed to implement the if statement as if it where only evaluating the conditions on a single person at a time. No loops involed nor actual lists at this time.\n",
    "\n",
    "Couple of assumptions:<br>\n",
    "Assume names are always capitalised and that dates are always represented as integers as in: (2nd January 2020) == (1st January 2020 + 1)\n",
    "\n",
    "**hint: there's no 1 correct solution and depending on your conditions, their order might matter  \n",
    "**hint 2: determine the boundary values and test your implementation for each. Just change the values and rerun the cell"
   ]
  },
  {
   "cell_type": "code",
   "execution_count": null,
   "metadata": {},
   "outputs": [],
   "source": [
    "# Assume you are only implementing a functionality that can determine what bin this person belongs to\n",
    "# and change the values (not the keys) to test different cases\n",
    "person = {'name':'Saemi','start':12344,'end':12455}\n",
    "bins = {'Bin 1':[], 'Bin 2':[], 'Bin 3':[], 'Bin 4':[]}\n",
    "\n",
    "# Implement your if statement so that it determins the value of a variable called what_bin\n",
    "# Put your code here\n",
    "# what_bin = 'Bin ?'\n",
    "\n",
    "# Uncomment the following line to see if the person went into the correct bin\n",
    "#bins[what_bin].append(person)\n",
    "print(bins)"
   ]
  },
  {
   "cell_type": "markdown",
   "metadata": {},
   "source": [
    "Finish the code in the next cell to implement naive __halfing machine__  \n",
    "it should check if the value of the user's input is an even number and assign the variable *half* with either the half of the value or the string \"It was not an even number\"\n",
    "\n",
    "*hint: The modulo operator (%) returns 1 or 0, for example 4%2=0 and 7%2=1\n",
    "\n",
    "*In this exercise we are using the __input__ statement to get user's input  \n",
    "If you are unaware of the input statement, have a look at its description here: https://www.w3schools.com/python/python_user_input.asp*"
   ]
  },
  {
   "cell_type": "code",
   "execution_count": null,
   "metadata": {},
   "outputs": [],
   "source": [
    "val = input('What number? ')\n",
    "val = int(val)\n",
    "\n",
    "# write your code here\n",
    "\n",
    "print(half)"
   ]
  },
  {
   "cell_type": "markdown",
   "metadata": {},
   "source": [
    "### Can you condense the cell above into 2 lines?\n",
    "use the shorthand if/else"
   ]
  },
  {
   "cell_type": "code",
   "execution_count": null,
   "metadata": {},
   "outputs": [],
   "source": [
    "# write your code here"
   ]
  },
  {
   "cell_type": "markdown",
   "metadata": {},
   "source": [
    "### Now make sure that the input is actually numbers and take appropriate action if not\n",
    "You don't need to continue with the shorthand form\n",
    "\n",
    "*hint: String variables implement the _.isdigit()_ function"
   ]
  },
  {
   "cell_type": "code",
   "execution_count": null,
   "metadata": {},
   "outputs": [],
   "source": [
    "# write your code here"
   ]
  },
  {
   "cell_type": "markdown",
   "metadata": {},
   "source": [
    "## Create a lookup script for people and their phone number\n",
    "This is a list of random people and their internal phone numbers:\n",
    "- Randy: 1234\n",
    "- Eve: 4321\n",
    "- Oscar: 9876\n",
    "- Jane: 4567\n",
    "\n",
    "The script asks for a name and it should print the name and the correct phone number\n",
    "\n",
    "### First implement it by only using only if, elif, and else"
   ]
  },
  {
   "cell_type": "code",
   "execution_count": null,
   "metadata": {},
   "outputs": [],
   "source": [
    "search = input('What name are you looking for? ')\n",
    "# write your code here"
   ]
  },
  {
   "cell_type": "markdown",
   "metadata": {},
   "source": [
    "### Now account for names that are not on the list"
   ]
  },
  {
   "cell_type": "code",
   "execution_count": null,
   "metadata": {},
   "outputs": [],
   "source": [
    "search = input('What name are you looking for? ')\n",
    "# write your code here"
   ]
  },
  {
   "cell_type": "markdown",
   "metadata": {},
   "source": [
    "### Making it maintainable\n",
    "Now you have a longer list of names in a dictionary, use that to make your code more concise.\\\n",
    "Make sure that there are no errors if the search term is not found.\n",
    "\n",
    "*Use if/else and remember the \"__in__\" operator for sequences like lists and dictionaries"
   ]
  },
  {
   "cell_type": "code",
   "execution_count": null,
   "metadata": {},
   "outputs": [],
   "source": [
    "phonebook = {'Randy': 1234,'Eve': 4321,'Oscar': 9876,'Jane': 4567,'Greta': 3827,'Harry': 6754}\n",
    "search = input('What name are you looking for? ')\n",
    "# write your code here"
   ]
  },
  {
   "cell_type": "markdown",
   "metadata": {},
   "source": [
    "### Can you make it  a one-liner?\n",
    "Can you convert your solution above into a one-liner, excluding the *input* statement?"
   ]
  },
  {
   "cell_type": "code",
   "execution_count": null,
   "metadata": {},
   "outputs": [],
   "source": [
    "# write your code here"
   ]
  },
  {
   "cell_type": "markdown",
   "metadata": {},
   "source": [
    "# 4.4 For loops"
   ]
  },
  {
   "cell_type": "markdown",
   "metadata": {},
   "source": [
    "Write a loop that iterates through the following list of names and prints them along with their length\n",
    "\n",
    "the_names = ['Randy','Eve','Oscar','Jane','Greta','Harry','Saemundur','Kevin','Alexander','Jason','Joe','Sue']\n",
    "\n",
    "The first line printed out should be:\\\n",
    "*Randy has 5 characters*"
   ]
  },
  {
   "cell_type": "code",
   "execution_count": null,
   "metadata": {},
   "outputs": [],
   "source": [
    "# write your code here"
   ]
  },
  {
   "cell_type": "markdown",
   "metadata": {},
   "source": [
    "#### With the same list, only print out the names that are _longer than 4 characters_"
   ]
  },
  {
   "cell_type": "code",
   "execution_count": null,
   "metadata": {},
   "outputs": [],
   "source": [
    "# write your code here"
   ]
  },
  {
   "cell_type": "markdown",
   "metadata": {},
   "source": [
    "#### Now, again with the same list of names, for every name that is shorter than 5 charachters print each character on separate lines\n",
    "\n",
    "The first name should be printed like this:\\\n",
    "R\\\n",
    "a\\\n",
    "n\\\n",
    "d\\\n",
    "y"
   ]
  },
  {
   "cell_type": "code",
   "execution_count": null,
   "metadata": {},
   "outputs": [],
   "source": [
    "# write your code here"
   ]
  },
  {
   "cell_type": "markdown",
   "metadata": {},
   "source": [
    "#### Once again, you have the list of names and now also a corresponding list of their associated department abbreviation\n",
    "\n",
    "the_names = ['Randy','Eve','Oscar','Jane','Greta','Harry','Saemundur','Kevin','Alexander','Jason','Joe','Sue']\n",
    "the_dep = ['CSM','PSY','BES','AQU','BES','PSY','CSM','CSM','AQU','CSM','PSY','AQU']\n",
    "\n",
    "For example, according to this, Randy is in CSM and Eve is in PSY.\n",
    "\n",
    "Use a for loop and the zip function to print out each name and department\\\n",
    "The first line should be:\\\n",
    "Randy is in CSM"
   ]
  },
  {
   "cell_type": "code",
   "execution_count": null,
   "metadata": {},
   "outputs": [],
   "source": [
    "# write your code here"
   ]
  },
  {
   "cell_type": "markdown",
   "metadata": {},
   "source": [
    "#### Continuing with the names and departments, _only_ print out those in CSM and PSY"
   ]
  },
  {
   "cell_type": "code",
   "execution_count": null,
   "metadata": {},
   "outputs": [],
   "source": [
    "# write your code here"
   ]
  },
  {
   "cell_type": "markdown",
   "metadata": {},
   "source": [
    "#### Use _range_ to print out the first name and department and every third name and department after that.\n",
    "So, the first 2 lines printed out should be:\\\n",
    "Randy is in CSM\\\n",
    "Jane is in AQU\n",
    "\n",
    "*hint: if X%3 equals 0 then X can be divided by 3"
   ]
  },
  {
   "cell_type": "code",
   "execution_count": null,
   "metadata": {},
   "outputs": [],
   "source": [
    "# write your code here"
   ]
  },
  {
   "cell_type": "markdown",
   "metadata": {},
   "source": [
    "#### Do the same as above but this time use _enumerate_ and not _range_"
   ]
  },
  {
   "cell_type": "code",
   "execution_count": null,
   "metadata": {},
   "outputs": [],
   "source": [
    "# write your code here"
   ]
  },
  {
   "cell_type": "markdown",
   "metadata": {},
   "source": [
    "#### Repeat the same as above but this time, stop the iteration when a name starts with the letter S\n",
    "Don't print out the name that starts with _S_\n",
    "\n",
    "*hint: string implements the function __.startswith()__"
   ]
  },
  {
   "cell_type": "code",
   "execution_count": null,
   "metadata": {},
   "outputs": [],
   "source": [
    "# write your code here"
   ]
  },
  {
   "cell_type": "markdown",
   "metadata": {},
   "source": [
    "### Infinite series\n",
    "Use a __for__ loop to print out a special infinite series.\n",
    "\n",
    "The series starts with the number 2 and every consecutive number is the previous number multiplied by 2.\n",
    "So the first 7 numbers are:\\\n",
    "2\\\n",
    "4\\\n",
    "8\\\n",
    "16\\\n",
    "32\\\n",
    "64\\\n",
    "128\n",
    "\n",
    "Implement the loop such that you can define a maximum number so that the loop is not infinite and use __break__ to terminate it when the next number in the series exceeds the maximum.\\\n",
    "Start by defining max_num = 200000000\n",
    "\n",
    "__Don't use range__\\\n",
    "*hint: When iterating over a sequence, what should you preferably not do with the sequence inside the loop?"
   ]
  },
  {
   "cell_type": "code",
   "execution_count": null,
   "metadata": {},
   "outputs": [],
   "source": [
    "# write your code here"
   ]
  },
  {
   "cell_type": "markdown",
   "metadata": {},
   "source": [
    "#### Change the loop above so that it doesn't print out the numbers that have 6 as the last digit\n",
    "\n",
    "*hint: X%10 returns the last digit of a number"
   ]
  },
  {
   "cell_type": "code",
   "execution_count": null,
   "metadata": {},
   "outputs": [],
   "source": [
    "# write your code here"
   ]
  },
  {
   "cell_type": "markdown",
   "metadata": {},
   "source": [
    "#### Can you change the loop so it uses range now?"
   ]
  },
  {
   "cell_type": "code",
   "execution_count": null,
   "metadata": {},
   "outputs": [],
   "source": [
    "# write your code here"
   ]
  },
  {
   "cell_type": "markdown",
   "metadata": {},
   "source": [
    "### Prime numbers\n",
    "Write a loop that prints out all the prime numbers between 1 and 100.\n",
    "\n",
    "A prime number is only divisable by itself and 1\\\n",
    "For any given number __n__, if you cannot find a number __x__ in the range(2,n) such that n%x=0 then n is a prime number.\n",
    "\n",
    "*hint: For loops have an __else__ clause for when they're able to finish the sequence"
   ]
  },
  {
   "cell_type": "code",
   "execution_count": null,
   "metadata": {},
   "outputs": [],
   "source": [
    "# write your code here"
   ]
  },
  {
   "cell_type": "markdown",
   "metadata": {},
   "source": [
    "# 4.5 While loops\n"
   ]
  },
  {
   "cell_type": "markdown",
   "metadata": {},
   "source": [
    "### Implement a while loop that reports the temperature drop in a cup of tea\n",
    "\n",
    "The tea temperature should start at 100°C and drops by 1°C every iteration.\\\n",
    "While the temperature is over 84°C it is too hot to drink.\\\n",
    "The loop should just print out the temperature and inform that the tea is too hot until it is not.\n",
    "\n",
    "The first 3 lines printed should be:\\\n",
    "100°C is still too hot\\\n",
    "99°C is still too hot\\\n",
    "98°C is still too hot\n",
    "\n",
    "And the last line should be:\\\n",
    "84°C is cool enough to drink"
   ]
  },
  {
   "cell_type": "code",
   "execution_count": null,
   "metadata": {},
   "outputs": [],
   "source": [
    "# write your code here"
   ]
  },
  {
   "cell_type": "markdown",
   "metadata": {},
   "source": [
    "### The inifinte series revisited\n",
    "\n",
    "Use a while loop to implement the inifinite series from the for loop exercise.\\\n",
    "Again exclude the numbers that have 6 as their last digit."
   ]
  },
  {
   "cell_type": "code",
   "execution_count": null,
   "metadata": {},
   "outputs": [],
   "source": [
    "# write your code here"
   ]
  },
  {
   "cell_type": "markdown",
   "metadata": {},
   "source": [
    "### What is the answer to Life, the Universe and Everything?\n",
    "Use a while loop to implement a script that asks the user the question in the title.\\\n",
    "It should \n",
    "- keep on asking until it gets the correct answer (42).\n",
    "- inform the user if the answer is incorrect (e.g., print out: \"Nope, that is not it\")\n",
    "- inform the user if the answer is correct (e.g., print out: \"Correct, you're awesome!\""
   ]
  },
  {
   "cell_type": "code",
   "execution_count": null,
   "metadata": {},
   "outputs": [],
   "source": [
    "# write your code here"
   ]
  },
  {
   "cell_type": "markdown",
   "metadata": {},
   "source": [
    "### Add a maximum number of attempts\n",
    "Now change the loop above so that it only gives the user 3 attempts to answer and informs them when they exceeded the attempts.\n",
    "\n",
    "*hint: while loops can have an __else__ clause for when the condition is not true"
   ]
  },
  {
   "cell_type": "code",
   "execution_count": null,
   "metadata": {},
   "outputs": [],
   "source": [
    "# write your code here"
   ]
  },
  {
   "cell_type": "markdown",
   "metadata": {},
   "source": [
    "# 4.6 Comprehensions"
   ]
  },
  {
   "cell_type": "markdown",
   "metadata": {},
   "source": [
    "### Here is a list of names\n",
    "the_names = ['Randy Quaid','Eve Short','Oscar Wilde','Jane Goodman',\n",
    "             'Greta Sanderson','Harry Stiles','Saemundur Haraldsson',\n",
    "             'Kevin Swingler','Alexander James','Jason Adair','Joe Dirt','Sue Heck']\n",
    "### Use a list comprehension to create a list of only first names\n",
    "\n",
    "*hint: what does .split() without an argument do?"
   ]
  },
  {
   "cell_type": "code",
   "execution_count": null,
   "metadata": {},
   "outputs": [],
   "source": [
    "# write your code here"
   ]
  },
  {
   "cell_type": "markdown",
   "metadata": {},
   "source": [
    "#### Now use a comprehension to create a dictionary where the last names are the keys and first names are the values\n",
    "\n",
    "*hint: .split() returns a tuple"
   ]
  },
  {
   "cell_type": "code",
   "execution_count": null,
   "metadata": {},
   "outputs": [],
   "source": [
    "# write your code here"
   ]
  },
  {
   "cell_type": "markdown",
   "metadata": {},
   "source": [
    "#### Now create a list of first names that begin with __S__ only"
   ]
  },
  {
   "cell_type": "code",
   "execution_count": null,
   "metadata": {},
   "outputs": [],
   "source": [
    "# write your code here"
   ]
  },
  {
   "cell_type": "markdown",
   "metadata": {},
   "source": [
    "#### From the list of names create a list of unique characters\n",
    "\n",
    "Treat R and r as the same\n",
    "\n",
    "*hint: Remember how to flatten a list with comprehension\\\n",
    "*hint: .lower()"
   ]
  },
  {
   "cell_type": "code",
   "execution_count": null,
   "metadata": {},
   "outputs": [],
   "source": [
    "# write your code here"
   ]
  },
  {
   "cell_type": "markdown",
   "metadata": {},
   "source": [
    "### Use a comprehension to create a list of prime numbers between 1 and 100\n",
    "\n",
    "\n",
    "*hint: The function __any__ returns true if any element in a sequence is true"
   ]
  },
  {
   "cell_type": "code",
   "execution_count": null,
   "metadata": {},
   "outputs": [],
   "source": [
    "# write your code here"
   ]
  }
 ],
 "metadata": {
  "kernelspec": {
   "display_name": "Python 3",
   "language": "python",
   "name": "python3"
  },
  "language_info": {
   "codemirror_mode": {
    "name": "ipython",
    "version": 3
   },
   "file_extension": ".py",
   "mimetype": "text/x-python",
   "name": "python",
   "nbconvert_exporter": "python",
   "pygments_lexer": "ipython3",
   "version": "3.7.4"
  }
 },
 "nbformat": 4,
 "nbformat_minor": 2
}
