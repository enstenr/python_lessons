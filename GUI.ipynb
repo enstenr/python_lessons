{
 "cells": [
  {
   "cell_type": "code",
   "execution_count": 9,
   "metadata": {},
   "outputs": [],
   "source": [
    "from tkinter import * \n",
    "window = Tk()\n",
    "\n",
    "window.title('Hello Python')\n",
    "window.geometry('300x200+10+10')\n",
    "\n",
    "btn=Button(window, text=\"Btn Widget\", fg='blue')\n",
    "btn.place(x=20, y=30)\n",
    "window.mainloop()"
   ]
  }
 ],
 "metadata": {
  "kernelspec": {
   "display_name": "Python 3",
   "language": "python",
   "name": "python3"
  },
  "language_info": {
   "codemirror_mode": {
    "name": "ipython",
    "version": 3
   },
   "file_extension": ".py",
   "mimetype": "text/x-python",
   "name": "python",
   "nbconvert_exporter": "python",
   "pygments_lexer": "ipython3",
   "version": "3.8.3"
  }
 },
 "nbformat": 4,
 "nbformat_minor": 4
}
