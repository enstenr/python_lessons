{
 "cells": [
  {
   "cell_type": "markdown",
   "metadata": {},
   "source": [
    "# ITNPBD2, Representing and Manipulating Data\n",
    "## Class Test Autumn 2023\n",
    "## Manipulating Basic Data Types in Python\n",
    "\n",
    "This 'class test' is to be carried out online, not in a classroom. Students must complete the test by typing code and comments into the cells in the notebook below.\n",
    "\n",
    "You must enter both code and comments, as requested in the questions. In class, you will have been taught to plan your code using comments first. If you cannot produce working code in some places, then make sure you include comments that outline the algorithm you would use. You will get marks for knowing how to approach the problem even if your code does not fully work.\n",
    "\n",
    "## Important: You must work alone\n",
    "You must complete the test on your own. Do not work or communicate with other people while taking the test. Colluding with others is a form of academic misconduct and can cause you to fail the module.\n",
    "\n",
    "## Important: You may NOT use any AI tool\n",
    "This test is designed to assess your ability to write code quickly without reference to tools such as artificial intelligence code generators. You must not use tools like GPT or Copilot. All the code must be written by you and you alone. Use of generative artificial intelligence in assessment is plagiarism, which is a form of academic misconduct and can cause you to fail the module.\n",
    "\n",
    "## Submission\n",
    "When you have completed your notebook, save it as xxxxx.ipynb where xxxxx is your student number. Then upload the file to the submission page on Canvas.\n",
    "\n",
    "## Marking Criteria\n",
    "There are not separate marks for each question. Your overall mark will be determined by the overall quality of both your **code** and **comments** with reference to the University common marking scheme. The table below describes the broad classes of attainment required for each grade band.\n",
    "\n",
    "|Grade|Requirement|\n",
    "|:---|:---|\n",
    "| Fail | You will fail if your code does not run or does not achieve even the basics of the task. You may also fail if you submit code without either comments or a text explanation of what the code does.|\n",
    "| Pass | To pass, you must submit sufficient working code to show that you have mastered the basics of the task, even if not everything works completely. You may also pass if the parts of your submission that do not work have sensible comments that outline the algorithm. |\n",
    "| Merit | For a merit, your code must be mostly correct, with only small problems or parts missing, and your comments must be useful rather than simply re-stating the code in English. Most choices for methods and structures should be explained and alternatives mentioned. |\n",
    "| Distinction | For a distinction, your code must be working, correct, and well commented and shows an appreciation of style, efficiency and reliability. All choices for methods and structures are concisely justified and alternatives are given well thought considerations. For a distinction, your work should be of professional quality.|\n",
    "\n",
    "The full details of the CMS can be found here\n",
    "\n",
    "https://www.stir.ac.uk/about/professional-services/student-academic-and-corporate-services/academic-registry/academic-policy-and-practice/quality-handbook/assessment-policy-and-procedure/appendix-2-postgraduate-common-marking-scheme/\n"
   ],
   "id": "2fd4540799b600ca"
  },
  {
   "cell_type": "markdown",
   "metadata": {},
   "source": [
    "Look at the small table of data below, showing five items from a shopping list\n",
    "\n",
    "| Aisle | Item | Price |\n",
    "|:--|:--|:--|\n",
    "|Bakery|Bread|150|\n",
    "|Dairy|Milk|90|\n",
    "|Dairy|Cheese|250|\n",
    "|Dairy|Yogurt|95|\n",
    "|Cans|Soup|120|\n",
    "\n",
    "If you wanted to represent these items in a data structure in Python, you would have a few choices:\n",
    "\n",
    " 1. As three separate lists: Aisle = Bakery, Dairy, Dairy, Dairy, Cans; Item = Bread, Milk, Cheese, Yogurt, Soup; Price = 150, 90, 250, 95, 120\n",
    " 2. As a list of dictionaries, each with keys in Aisle, Item, Price\n",
    " 3. As a list of tuples, for example with the first row as `(Bakery, Bread, 150)` \n",
    " \n",
    " With this in mind, answer the next questions by typing code or explanatory comments in the cells below as indicated"
   ],
   "id": "3485628ef3eadc86"
  },
  {
   "cell_type": "markdown",
   "metadata": {},
   "source": [
    "## Create the three lists from option 1 above\n",
    "Create three python lists called `Aisle`, `Item`, and `Price` as described in option 1 above. Comment on the data types of each entry in the lists and use code to illustrate the data types are as you describe."
   ],
   "id": "97db9efe4eccfe01"
  },
  {
   "cell_type": "code",
   "execution_count": 2,
   "metadata": {},
   "outputs": [],
   "source": [
    "# Put your code and comments here\n",
    "# list can be created using square brackets [] the Aisle and Item column hold string values . so the data\n",
    "# types for these items are string or str data type , the third column is containing whole number\n",
    "# so we can consider the data type as int . in case there is decimal in the price, then the datatype\n",
    "# will be floating point \n",
    "\n",
    "aisle_list = ['Bakery', 'Dairy', 'Dairy', 'Dairy', 'Cans']\n",
    "item_list = ['Bread', 'Milk', 'Cheese', 'Yogurt', 'Soup']\n",
    "price_list = [150, 90, 250, 95, 120]"
   ],
   "id": "4f7e266e99f6d28"
  },
  {
   "cell_type": "markdown",
   "metadata": {},
   "source": [
    "## Access Items in a List\n",
    "Using the list of items you have created, use indexes and slicing to access and print the following:\n",
    " * The first item in the list\n",
    " * The last item in the list (assume you don't know the length of the list)\n",
    " * The second, third and fourth items in the list, i.e. `['Milk', 'Cheese', 'Yogurt']`"
   ],
   "id": "664ef687f1732ddb"
  },
  {
   "cell_type": "code",
   "execution_count": 10,
   "metadata": {},
   "outputs": [
    {
     "name": "stdout",
     "output_type": "stream",
     "text": [
      "Bakery\n",
      "Cans\n",
      "Dairy Dairy Dairy\n",
      "['Dairy', 'Dairy', 'Dairy']\n"
     ]
    }
   ],
   "source": [
    "# Put your code and comments here\n",
    "# list indexes starts with 0 , so to access teh first item in the list, we use 0 index \n",
    "print(aisle_list[0])\n",
    "\n",
    "# as the list length is not known, the last item can be accessed by finding the length of the list\n",
    "# and subtracting 1 from it. because, the index starts with 0 , the last index will be length - 1\n",
    "print(aisle_list[len(aisle_list) - 1])\n",
    "\n",
    "# the items 2, 3, 4 can be accessed in two ways, either directly through the index by passing 2,3,4 \n",
    "print(aisle_list[1], aisle_list[2], aisle_list[3])\n",
    "\n",
    "# another better approach will be to use range of index to access , we use 1 until 4. 4 will be excluded \n",
    "# while fetching \n",
    "print(aisle_list[1:4])"
   ],
   "id": "95acf5f92986481a"
  },
  {
   "cell_type": "markdown",
   "metadata": {},
   "source": [
    "## Calculation the total cost\n",
    "Write code in the cell below to calculate the total cost of this shopping list (add up all the numbers in the `price` list). Present two solutions: one where you calculate the total in a loop, and the other where you just use a built in Python function. Print the result you get from each of the two methods."
   ],
   "id": "8b7b438ac065d48a"
  },
  {
   "cell_type": "code",
   "execution_count": 13,
   "metadata": {},
   "outputs": [
    {
     "name": "stdout",
     "output_type": "stream",
     "text": [
      "705\n",
      "705\n"
     ]
    }
   ],
   "source": [
    "# Put your code and comments here\n",
    "# using loop to add the price. we can use list comprehension to iterate using for lop and add \n",
    "total = 0\n",
    "for price in price_list:\n",
    "    total = total + price\n",
    "print(total)\n",
    "\n",
    "#there is an inbuilt function called sum which takes in datastructure as input. we pass the list \n",
    "# to this function and this will return back the sum value \n",
    "\n",
    "print(sum(price_list))"
   ],
   "id": "9266a2e7a1214695"
  },
  {
   "cell_type": "markdown",
   "metadata": {},
   "source": [
    "## Create the list of dictionaries in option 2\n",
    "Create a variable `shopping` that is a list of dictionaries that contains the data in the table shown in the introduction above. The code will be too long to be read on a single line so format it appropriately."
   ],
   "id": "6c0fc602285c1b52"
  },
  {
   "cell_type": "code",
   "execution_count": 4,
   "metadata": {},
   "outputs": [],
   "source": [
    "# Put your code and comments here"
   ],
   "id": "31873bb35d051c63"
  },
  {
   "cell_type": "markdown",
   "metadata": {},
   "source": [
    "## Calculate the total spend per aisle\n",
    "Write code to calculate the total spend per aisle. You should present three totals, one each for Bakery, Dairy and Cans. Write comments in your code that describe how easy it would be to apply your code to new data that contains new aisles (for example, 'Frozen')."
   ],
   "id": "e83036bc3705a8ed"
  },
  {
   "cell_type": "code",
   "execution_count": 5,
   "metadata": {},
   "outputs": [],
   "source": [
    "# Put your code and comments here"
   ],
   "id": "15f4bb18c88051f5"
  },
  {
   "cell_type": "markdown",
   "metadata": {},
   "source": [
    "## Use the three lists from question 1 above and create a list of tuples\n",
    "Question 1 above asks you to create three lists: `Aisle`, `Item`, and `Price`. You must now convert those three lists into a single list of tuples with the first row as `(Bakery, Bread, 150)`. There are a few ways in which you might do this, including a simple comprehension and a longer loop and append approach.\n",
    "\n",
    "Demonstrate more than one approach if you can and write comments that compare your different methods in terms of readability and speed."
   ],
   "id": "3aa554c8a916dcf1"
  },
  {
   "cell_type": "code",
   "execution_count": 6,
   "metadata": {},
   "outputs": [],
   "source": [
    "# Put your code and comments here"
   ],
   "id": "487e7ab1f8c71d72"
  },
  {
   "cell_type": "markdown",
   "metadata": {},
   "source": [
    "## Write a Function to Find the Highest Price in the Prices list\n",
    "Write a function that takes a list of numbers as its single argument and returns the highest number in that list.\n",
    "Add code to call the function and print the result that is returned.\n",
    "\n",
    "Show two possible solutions, one that uses the built in `max` function, and one that uses a loop and an `if` statement. "
   ],
   "id": "7f870d9d44b46d27"
  },
  {
   "cell_type": "code",
   "execution_count": 7,
   "metadata": {},
   "outputs": [],
   "source": [
    "# Put your code and comments here"
   ],
   "id": "f4992408752bbb6e"
  }
 ],
 "metadata": {
  "kernelspec": {
   "display_name": "Python 3",
   "language": "python",
   "name": "python3"
  },
  "language_info": {
   "codemirror_mode": {
    "name": "ipython",
    "version": 3
   },
   "file_extension": ".py",
   "mimetype": "text/x-python",
   "name": "python",
   "nbconvert_exporter": "python",
   "pygments_lexer": "ipython3",
   "version": "3.8.3"
  }
 },
 "nbformat": 4,
 "nbformat_minor": 5
}
