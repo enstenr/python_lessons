{
 "cells": [
  {
   "cell_type": "markdown",
   "metadata": {},
   "source": [
    "# Numpy\n",
    "we have list in python which is slow . so numpy was built which has various inbuilt functions mathematically for datascience\n"
   ]
  },
  {
   "cell_type": "code",
   "execution_count": 2,
   "metadata": {},
   "outputs": [],
   "source": [
    "# importing numpy and giving it a short alias to access \n",
    "import numpy as np "
   ]
  },
  {
   "cell_type": "code",
   "execution_count": 5,
   "metadata": {},
   "outputs": [
    {
     "name": "stdout",
     "output_type": "stream",
     "text": [
      "[1 5 3 4 2]\n",
      "<class 'numpy.ndarray'>\n",
      "1.18.5\n",
      "[1 5]\n"
     ]
    }
   ],
   "source": [
    "\n",
    "# the array type is called ndarray \n",
    "arr=np.array([1,5,3,4,2])\n",
    "\n",
    "print(arr)\n",
    "print(type(arr))\n",
    "#printing the numpy version\n",
    "print(np.__version__)\n",
    "\n",
    "b = arr[:2]\n",
    "print(b)"
   ]
  },
  {
   "cell_type": "code",
   "execution_count": 6,
   "metadata": {},
   "outputs": [
    {
     "name": "stdout",
     "output_type": "stream",
     "text": [
      "[4 2 3]\n"
     ]
    }
   ],
   "source": [
    "# creating ndarray from list\n",
    "list=[4,2,3]\n",
    "np_array = np.array(list)\n",
    "print(np_array)"
   ]
  },
  {
   "cell_type": "code",
   "execution_count": 13,
   "metadata": {},
   "outputs": [
    {
     "name": "stdout",
     "output_type": "stream",
     "text": [
      "0\n",
      "1\n",
      "2\n",
      "3\n"
     ]
    }
   ],
   "source": [
    "# 0 dimension array\n",
    "arr=np.array(90)\n",
    "print(arr.ndim)\n",
    "\n",
    "arr1=np.array([4,3,2,1])\n",
    "print(arr1.ndim)\n",
    "\n",
    "# 2 dimension array . an array containing 1d arary as element\n",
    "arr2=np.array([[2,3,5],[4,5,6]])\n",
    "print(arr2.ndim)\n",
    "\n",
    "#3d array contains 2d array as its elements\n",
    "arr3 = np.array([arr2])\n",
    "print(arr3.ndim)"
   ]
  },
  {
   "cell_type": "code",
   "execution_count": 16,
   "metadata": {},
   "outputs": [
    {
     "name": "stdout",
     "output_type": "stream",
     "text": [
      "5\n",
      "[[[[[1 2 3 4]]]]]\n"
     ]
    }
   ],
   "source": [
    "# create an array of higher dimention \n",
    "arr=np.array([1,2,3,4],ndmin=5)\n",
    "print(arr.ndim)\n",
    "print(arr)"
   ]
  },
  {
   "cell_type": "code",
   "execution_count": 4,
   "metadata": {},
   "outputs": [
    {
     "data": {
      "text/plain": [
       "array([1., 1., 1., 1., 1., 1., 1., 1., 1., 1.])"
      ]
     },
     "execution_count": 4,
     "metadata": {},
     "output_type": "execute_result"
    }
   ],
   "source": [
    "# creating arrays with 10 zeros . this defaults to float datatype\n",
    "np.zeros(10)\n",
    "np.ones(10)"
   ]
  },
  {
   "cell_type": "code",
   "execution_count": 5,
   "metadata": {},
   "outputs": [
    {
     "data": {
      "text/plain": [
       "array([1, 1, 1, 1, 1, 1, 1, 1, 1, 1])"
      ]
     },
     "execution_count": 5,
     "metadata": {},
     "output_type": "execute_result"
    }
   ],
   "source": [
    "# to create int data type we have to give dtype = int \n",
    "np.ones(10,dtype=int)"
   ]
  },
  {
   "cell_type": "code",
   "execution_count": 7,
   "metadata": {},
   "outputs": [
    {
     "data": {
      "text/plain": [
       "array([154,  42, 140, 185,  90, 139, 150, 153,  47, 190])"
      ]
     },
     "execution_count": 7,
     "metadata": {},
     "output_type": "execute_result"
    }
   ],
   "source": [
    "np.random.randint(1,200,10)\n",
    "# half open range . this means, inclusive of 1 and exclusive of 200 "
   ]
  },
  {
   "cell_type": "code",
   "execution_count": 8,
   "metadata": {},
   "outputs": [
    {
     "data": {
      "text/plain": [
       "[1, 2, 3, 4, 5, 6, 7, 8, 9]"
      ]
     },
     "execution_count": 8,
     "metadata": {},
     "output_type": "execute_result"
    }
   ],
   "source": [
    "[x for x in range(1,10)] "
   ]
  },
  {
   "cell_type": "code",
   "execution_count": 10,
   "metadata": {},
   "outputs": [
    {
     "data": {
      "text/plain": [
       "array([[1, 2, 3],\n",
       "       [3, 4, 5],\n",
       "       [5, 6, 7]])"
      ]
     },
     "execution_count": 10,
     "metadata": {},
     "output_type": "execute_result"
    }
   ],
   "source": [
    "# 2d array using np\n",
    "\n",
    "np.array([[1,2,3],[3,4,5],[5,6,7]])"
   ]
  },
  {
   "cell_type": "code",
   "execution_count": 18,
   "metadata": {},
   "outputs": [
    {
     "data": {
      "text/plain": [
       "array([[[ 0,  1,  2,  3],\n",
       "        [ 4,  5,  6,  7],\n",
       "        [ 8,  9, 10, 11],\n",
       "        [12, 13, 14, 15]],\n",
       "\n",
       "       [[16, 17, 18, 19],\n",
       "        [20, 21, 22, 23],\n",
       "        [24, 25, 26, 27],\n",
       "        [28, 29, 30, 31]],\n",
       "\n",
       "       [[32, 33, 34, 35],\n",
       "        [36, 37, 38, 39],\n",
       "        [40, 41, 42, 43],\n",
       "        [44, 45, 46, 47]],\n",
       "\n",
       "       [[48, 49, 50, 51],\n",
       "        [52, 53, 54, 55],\n",
       "        [56, 57, 58, 59],\n",
       "        [60, 61, 62, 63]]])"
      ]
     },
     "execution_count": 18,
     "metadata": {},
     "output_type": "execute_result"
    }
   ],
   "source": [
    "np.arange(64).reshape(4,4,4)"
   ]
  },
  {
   "cell_type": "code",
   "execution_count": 26,
   "metadata": {},
   "outputs": [
    {
     "data": {
      "text/plain": [
       "array([[ 0,  1,  2,  3,  4,  5,  6,  7,  8,  9],\n",
       "       [10, 11, 12, 13, 14, 15, 16, 17, 18, 19],\n",
       "       [20, 21, 22, 23, 24, 25, 26, 27, 28, 29],\n",
       "       [30, 31, 32, 33, 34, 35, 36, 37, 38, 39],\n",
       "       [40, 41, 42, 43, 44, 45, 46, 47, 48, 49],\n",
       "       [50, 51, 52, 53, 54, 55, 56, 57, 58, 59],\n",
       "       [60, 61, 62, 63, 64, 65, 66, 67, 68, 69],\n",
       "       [70, 71, 72, 73, 74, 75, 76, 77, 78, 79],\n",
       "       [80, 81, 82, 83, 84, 85, 86, 87, 88, 89],\n",
       "       [90, 91, 92, 93, 94, 95, 96, 97, 98, 99]])"
      ]
     },
     "execution_count": 26,
     "metadata": {},
     "output_type": "execute_result"
    }
   ],
   "source": [
    "t = np.arange(100).reshape(10,10)\n",
    "t"
   ]
  },
  {
   "cell_type": "code",
   "execution_count": 23,
   "metadata": {},
   "outputs": [
    {
     "data": {
      "text/plain": [
       "array([[0.45959394, 0.06443347, 0.38754944, 0.02957397, 0.82122169,\n",
       "        0.46994623, 0.673437  , 0.0562063 , 0.08827707, 0.00821442],\n",
       "       [0.60109037, 0.96360863, 0.3863763 , 0.46964958, 0.26676063,\n",
       "        0.66170309, 0.59657592, 0.88421628, 0.45924907, 0.99745228],\n",
       "       [0.96396048, 0.44264792, 0.05699574, 0.7558403 , 0.00115728,\n",
       "        0.84170968, 0.30396235, 0.44731898, 0.34059742, 0.35158016],\n",
       "       [0.44672187, 0.61118723, 0.59602994, 0.35895676, 0.60384879,\n",
       "        0.18457721, 0.91086676, 0.98743949, 0.51384035, 0.63623834],\n",
       "       [0.72628902, 0.54669947, 0.86372245, 0.60054162, 0.98515446,\n",
       "        0.14488214, 0.05267655, 0.99044519, 0.99563153, 0.22138327],\n",
       "       [0.47977442, 0.7470384 , 0.52754092, 0.61697516, 0.7096678 ,\n",
       "        0.27980918, 0.25838593, 0.30467858, 0.05122876, 0.26434954],\n",
       "       [0.60701735, 0.9881271 , 0.8814596 , 0.63184856, 0.53983624,\n",
       "        0.09454407, 0.51179171, 0.41328057, 0.79358801, 0.36681275],\n",
       "       [0.23143472, 0.13863444, 0.79923618, 0.14327907, 0.58968917,\n",
       "        0.0682358 , 0.89767135, 0.22873978, 0.24110777, 0.90509701],\n",
       "       [0.57124893, 0.1674644 , 0.81809827, 0.80572872, 0.89299101,\n",
       "        0.09798303, 0.93419529, 0.2812721 , 0.597908  , 0.34144625],\n",
       "       [0.00925868, 0.90155515, 0.54139061, 0.19584527, 0.49413411,\n",
       "        0.56729503, 0.48528922, 0.67189269, 0.01943277, 0.09511343]])"
      ]
     },
     "execution_count": 23,
     "metadata": {},
     "output_type": "execute_result"
    }
   ],
   "source": [
    "r = np.random.random((10,10))\n",
    "r"
   ]
  },
  {
   "cell_type": "code",
   "execution_count": 27,
   "metadata": {},
   "outputs": [
    {
     "name": "stdout",
     "output_type": "stream",
     "text": [
      "[ 4  6 10 11 15 16 17 19 20 23 25 31 32 34 36 37 38 39 40 41 42 43 44 47\n",
      " 48 51 52 53 54 60 61 62 63 64 66 68 72 74 76 79 80 82 83 84 86 88 91 92\n",
      " 95 97]\n"
     ]
    }
   ],
   "source": [
    "print(t[r>0.5])"
   ]
  }
 ],
 "metadata": {
  "kernelspec": {
   "display_name": "Python 3",
   "language": "python",
   "name": "python3"
  },
  "language_info": {
   "codemirror_mode": {
    "name": "ipython",
    "version": 3
   },
   "file_extension": ".py",
   "mimetype": "text/x-python",
   "name": "python",
   "nbconvert_exporter": "python",
   "pygments_lexer": "ipython3",
   "version": "3.8.3"
  }
 },
 "nbformat": 4,
 "nbformat_minor": 4
}
